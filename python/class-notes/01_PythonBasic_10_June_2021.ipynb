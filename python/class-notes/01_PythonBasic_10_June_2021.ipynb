{
 "cells": [
  {
   "cell_type": "code",
   "execution_count": null,
   "metadata": {
    "colab": {
     "base_uri": "https://localhost:8080/"
    },
    "id": "KJi7NrPUEy1m",
    "outputId": "d7c7e008-c98a-415a-875d-5b260806f413"
   },
   "outputs": [
    {
     "name": "stdout",
     "output_type": "stream",
     "text": [
      "hello\n"
     ]
    }
   ],
   "source": [
    "print(\"hello\")\n",
    "\n",
    "\n",
    "print(\"joseph instructor\")\n",
    "\n",
    "-\n",
    "-\n",
    "-\n",
    "-\n",
    "-\n",
    "-\n"
   ]
  },
  {
   "cell_type": "code",
   "execution_count": 13,
   "metadata": {
    "colab": {
     "base_uri": "https://localhost:8080/"
    },
    "id": "LNNaY-5KJ8Sf",
    "outputId": "2ff7fa18-e5b6-4ff4-cd93-89a2ba7a3649"
   },
   "outputs": [
    {
     "name": "stdout",
     "output_type": "stream",
     "text": [
      "dünya\n"
     ]
    }
   ],
   "source": [
    "print('''dünya''')"
   ]
  },
  {
   "cell_type": "code",
   "execution_count": 14,
   "metadata": {},
   "outputs": [
    {
     "name": "stdout",
     "output_type": "stream",
     "text": [
      "dünya\n"
     ]
    }
   ],
   "source": [
    "print(\"\"\"dünya\"\"\")"
   ]
  },
  {
   "cell_type": "code",
   "execution_count": 8,
   "metadata": {},
   "outputs": [
    {
     "name": "stdout",
     "output_type": "stream",
     "text": [
      " ben bunu yapabilirim \n"
     ]
    }
   ],
   "source": [
    "print(\" ben bunu yapabilirim \")"
   ]
  },
  {
   "cell_type": "code",
   "execution_count": null,
   "metadata": {
    "colab": {
     "base_uri": "https://localhost:8080/"
    },
    "id": "NXevdPNhKSHp",
    "outputId": "40b635e6-4c2c-44f8-c715-56f22debb7b6"
   },
   "outputs": [
    {
     "name": "stdout",
     "output_type": "stream",
     "text": [
      " bu benim ilk dersim.\n",
      "çok heyecanlıyım\n",
      "karşımda pırlanta gibi insanlar var \n",
      "o yüzden çok iyi hissediyorum\n"
     ]
    }
   ],
   "source": [
    "print(\"\"\" bu benim ilk dersim.\n",
    "çok heyecanlıyım\n",
    "karşımda pırlanta gibi insanlar var \n",
    "o yüzden çok iyi hissediyorum\"\"\")"
   ]
  },
  {
   "cell_type": "code",
   "execution_count": null,
   "metadata": {
    "colab": {
     "base_uri": "https://localhost:8080/"
    },
    "id": "D85a6IlRMHlW",
    "outputId": "0646af34-1c73-4f11-a58f-ee1540653028"
   },
   "outputs": [
    {
     "name": "stdout",
     "output_type": "stream",
     "text": [
      "ben bunu yapamam\n"
     ]
    }
   ],
   "source": [
    "print(\"ben bunu yapamam\")"
   ]
  },
  {
   "cell_type": "code",
   "execution_count": 3,
   "metadata": {
    "colab": {
     "base_uri": "https://localhost:8080/",
     "height": 131
    },
    "id": "jFz4dYiUMOs2",
    "outputId": "7d99021c-3193-4d26-c233-177314c26f12"
   },
   "outputs": [
    {
     "ename": "SyntaxError",
     "evalue": "EOF while scanning triple-quoted string literal (<ipython-input-3-4b777b03c816>, line 1)",
     "output_type": "error",
     "traceback": [
      "\u001b[1;36m  File \u001b[1;32m\"<ipython-input-3-4b777b03c816>\"\u001b[1;36m, line \u001b[1;32m1\u001b[0m\n\u001b[1;33m    print('''')\u001b[0m\n\u001b[1;37m               ^\u001b[0m\n\u001b[1;31mSyntaxError\u001b[0m\u001b[1;31m:\u001b[0m EOF while scanning triple-quoted string literal\n"
     ]
    }
   ],
   "source": [
    "print('''')"
   ]
  },
  {
   "cell_type": "code",
   "execution_count": null,
   "metadata": {
    "colab": {
     "base_uri": "https://localhost:8080/"
    },
    "id": "yaJm5FQwOvXD",
    "outputId": "8541fd4b-1200-4c67-fad8-bbaeb99f8689"
   },
   "outputs": [
    {
     "name": "stdout",
     "output_type": "stream",
     "text": [
      "\n"
     ]
    }
   ],
   "source": [
    "print('''''')"
   ]
  },
  {
   "cell_type": "code",
   "execution_count": 19,
   "metadata": {
    "colab": {
     "base_uri": "https://localhost:8080/",
     "height": 131
    },
    "id": "ZBAjGD_PO9Ea",
    "outputId": "50237041-3d10-4dc9-afc6-fec47b9bf7c0"
   },
   "outputs": [
    {
     "name": "stdout",
     "output_type": "stream",
     "text": [
      "\n"
     ]
    }
   ],
   "source": [
    "print('''''''')"
   ]
  },
  {
   "cell_type": "code",
   "execution_count": null,
   "metadata": {
    "id": "22hJJ9_pPLPE"
   },
   "outputs": [],
   "source": [
    "x =                  7\n",
    "y =                  3\n",
    "erzurumlular = \"dadaş\"  # ben buraya istediğimi yazarım. python çatlasın patlasın. oh olsun\n",
    "\n",
    "# burası ikinci comment satırı"
   ]
  },
  {
   "cell_type": "code",
   "execution_count": null,
   "metadata": {
    "id": "GkpiuJ7oR3yq"
   },
   "outputs": [],
   "source": [
    "---\n",
    "---\n",
    "---\n",
    "x = 35\n",
    "# burada \"x\" müşterinin yaşıdır"
   ]
  },
  {
   "cell_type": "code",
   "execution_count": 21,
   "metadata": {
    "colab": {
     "base_uri": "https://localhost:8080/"
    },
    "id": "k2oWJcG-aeor",
    "outputId": "072b3c6c-a3be-4642-ed31-0d83e33c78ae"
   },
   "outputs": [
    {
     "data": {
      "text/plain": [
       "8.0"
      ]
     },
     "execution_count": 21,
     "metadata": {},
     "output_type": "execute_result"
    }
   ],
   "source": [
    "3 + 5.  # 3 ile 5'in toplama işlemi yapılmıştır."
   ]
  },
  {
   "cell_type": "code",
   "execution_count": null,
   "metadata": {
    "colab": {
     "base_uri": "https://localhost:8080/"
    },
    "id": "szLbWMZYarjB",
    "outputId": "d6f86c36-6e06-45a5-b7d7-22cb0487ed93"
   },
   "outputs": [
    {
     "name": "stdout",
     "output_type": "stream",
     "text": [
      "30\n"
     ]
    }
   ],
   "source": [
    "my_age = 33\n",
    "your_age = 30\n",
    "my_age = your_age\n",
    "\n",
    "print(my_age)"
   ]
  },
  {
   "cell_type": "code",
   "execution_count": null,
   "metadata": {
    "id": "PDEFs1eVf-x9"
   },
   "outputs": [],
   "source": []
  }
 ],
 "metadata": {
  "colab": {
   "name": "01_PythonBasic_10-June-2021.ipynb",
   "provenance": []
  },
  "kernelspec": {
   "display_name": "Python 3",
   "language": "python",
   "name": "python3"
  },
  "language_info": {
   "codemirror_mode": {
    "name": "ipython",
    "version": 3
   },
   "file_extension": ".py",
   "mimetype": "text/x-python",
   "name": "python",
   "nbconvert_exporter": "python",
   "pygments_lexer": "ipython3",
   "version": "3.8.8"
  }
 },
 "nbformat": 4,
 "nbformat_minor": 1
}
