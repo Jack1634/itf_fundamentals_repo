{
 "cells": [
  {
   "cell_type": "markdown",
   "id": "406f2981",
   "metadata": {},
   "source": [
    "<img src=\"https://docs.google.com/uc?id=14xeXxFrVRjvOoUYWn_GuyE-v84wVzrqr\" class=\"img-fluid\" alt=\"CLRWY\" width=\"400\" height=\"200\">"
   ]
  },
  {
   "cell_type": "markdown",
   "id": "22263af8",
   "metadata": {},
   "source": [
    "<h1><p style=\"text-align: center; color:darkblue\">Python In-Class, <br>28 June 2021</p><h1>"
   ]
  },
  {
   "cell_type": "code",
   "execution_count": 1,
   "id": "78b85bb5",
   "metadata": {},
   "outputs": [
    {
     "name": "stdout",
     "output_type": "stream",
     "text": [
      "-1\n"
     ]
    }
   ],
   "source": [
    "a = 1\n",
    "\n",
    "print(-a)"
   ]
  },
  {
   "cell_type": "code",
   "execution_count": 1,
   "id": "eba4c8d8",
   "metadata": {},
   "outputs": [
    {
     "name": "stdout",
     "output_type": "stream",
     "text": [
      "-12\n"
     ]
    }
   ],
   "source": [
    "ab = 12\n",
    "print(-ab)"
   ]
  },
  {
   "cell_type": "code",
   "execution_count": 2,
   "id": "a8558a0a",
   "metadata": {},
   "outputs": [
    {
     "name": "stdout",
     "output_type": "stream",
     "text": [
      "17\n"
     ]
    }
   ],
   "source": [
    "ac = 17\n",
    "print(+ac)"
   ]
  },
  {
   "cell_type": "code",
   "execution_count": 1,
   "id": "cd39be24",
   "metadata": {},
   "outputs": [
    {
     "name": "stdout",
     "output_type": "stream",
     "text": [
      "-28\n"
     ]
    }
   ],
   "source": [
    "cd  = 28 \n",
    "print(-cd)"
   ]
  },
  {
   "cell_type": "code",
   "execution_count": 3,
   "id": "565aca92",
   "metadata": {},
   "outputs": [
    {
     "name": "stdout",
     "output_type": "stream",
     "text": [
      "28\n"
     ]
    }
   ],
   "source": [
    "print(+cd)"
   ]
  },
  {
   "cell_type": "code",
   "execution_count": null,
   "id": "22293392",
   "metadata": {},
   "outputs": [],
   "source": [
    "a = 5"
   ]
  },
  {
   "cell_type": "code",
   "execution_count": 6,
   "id": "5fe24ef7",
   "metadata": {},
   "outputs": [
    {
     "name": "stdout",
     "output_type": "stream",
     "text": [
      "-5\n"
     ]
    }
   ],
   "source": [
    "a = 5\n",
    "print(-a)"
   ]
  },
  {
   "cell_type": "code",
   "execution_count": 7,
   "id": "7e501d45",
   "metadata": {},
   "outputs": [
    {
     "name": "stdout",
     "output_type": "stream",
     "text": [
      "123\n"
     ]
    }
   ],
   "source": [
    "abc = 123\n",
    "print(+abc)"
   ]
  },
  {
   "cell_type": "code",
   "execution_count": 3,
   "id": "52fa2fe2",
   "metadata": {},
   "outputs": [
    {
     "name": "stdout",
     "output_type": "stream",
     "text": [
      "The sum of 3 + 4 is : 7\n"
     ]
    }
   ],
   "source": [
    "a = 3\n",
    "b = 4\n",
    "\n",
    "print(\"The sum of {} + {} is : {}\".format(a, b, a+b))"
   ]
  },
  {
   "cell_type": "code",
   "execution_count": 3,
   "id": "a125af1a",
   "metadata": {},
   "outputs": [
    {
     "name": "stdout",
     "output_type": "stream",
     "text": [
      "The sum of 2000 + 3000 is: 5000\n"
     ]
    }
   ],
   "source": [
    "x = 2000\n",
    "y = 3000\n",
    "print(\"The sum of {} + {} is: {}\".format(x, y, x+y))"
   ]
  },
  {
   "cell_type": "code",
   "execution_count": 9,
   "id": "e083f667",
   "metadata": {},
   "outputs": [
    {
     "name": "stdout",
     "output_type": "stream",
     "text": [
      "The sum of 10+20+30 is : 60\n"
     ]
    }
   ],
   "source": [
    "a = 10\n",
    "b = 20\n",
    "c= 30\n",
    "print(\"The sum of {}+{}+{} is : {}\".format(a,b,c, a+b+c))"
   ]
  },
  {
   "cell_type": "code",
   "execution_count": 3,
   "id": "13079b1b",
   "metadata": {},
   "outputs": [
    {
     "name": "stdout",
     "output_type": "stream",
     "text": [
      "Subtraction of 56 - 82 - 42 is: -68\n"
     ]
    }
   ],
   "source": [
    "ab  = 56 \n",
    "bd  = 82\n",
    "abd = 42\n",
    "print(\"Subtraction of {} - {} - {} is: {}\".format(ab, bd, abd, ab-bd-abd))"
   ]
  },
  {
   "cell_type": "code",
   "execution_count": 10,
   "id": "ca0a7d29",
   "metadata": {},
   "outputs": [
    {
     "name": "stdout",
     "output_type": "stream",
     "text": [
      "Multiple of 10*15*20 is: 3000\n"
     ]
    }
   ],
   "source": [
    "x = 10 \n",
    "y = 15 \n",
    "z = 20\n",
    "print(\"Multiple of {}*{}*{} is: {}\".format (x,y,z, x*y*z))"
   ]
  },
  {
   "cell_type": "code",
   "execution_count": 14,
   "id": "05469f1d",
   "metadata": {},
   "outputs": [
    {
     "name": "stdout",
     "output_type": "stream",
     "text": [
      "Result of operation 50*80*90/10 is : 36000.0\n"
     ]
    }
   ],
   "source": [
    "a = 50\n",
    "b = 80\n",
    "c = 90\n",
    "d = 10 \n",
    "print(\"Result of operation {}*{}*{}/{} is : {}\".format(a, b, c, d, a*b*c/d))\n"
   ]
  },
  {
   "cell_type": "code",
   "execution_count": 5,
   "id": "3bb363ac",
   "metadata": {},
   "outputs": [
    {
     "name": "stdout",
     "output_type": "stream",
     "text": [
      "3.15, 5.367, 7.3243\n"
     ]
    }
   ],
   "source": [
    "text = \"{:.2f}, {:.3f}, {:.4f}\".format(3.1463, 5.367, 7.324324)\n",
    "\n",
    "print(text)"
   ]
  },
  {
   "cell_type": "code",
   "execution_count": 10,
   "id": "2d0931d4",
   "metadata": {},
   "outputs": [
    {
     "name": "stdout",
     "output_type": "stream",
     "text": [
      "1112.165, 147.12, 7789\n"
     ]
    }
   ],
   "source": [
    "text1 = \"{:.3f}, {:.2f}, {:.0f}\".format(1112.165, 147.124565, 7789.45613)\n",
    "print(text1)"
   ]
  },
  {
   "cell_type": "code",
   "execution_count": 11,
   "id": "a597b075",
   "metadata": {},
   "outputs": [
    {
     "data": {
      "text/plain": [
       "1112"
      ]
     },
     "execution_count": 11,
     "metadata": {},
     "output_type": "execute_result"
    }
   ],
   "source": [
    "round(1112.165)"
   ]
  },
  {
   "cell_type": "code",
   "execution_count": 12,
   "id": "7b7d3cdb",
   "metadata": {},
   "outputs": [
    {
     "data": {
      "text/plain": [
       "147"
      ]
     },
     "execution_count": 12,
     "metadata": {},
     "output_type": "execute_result"
    }
   ],
   "source": [
    "round(147.124565)"
   ]
  },
  {
   "cell_type": "code",
   "execution_count": 15,
   "id": "8722ca7d",
   "metadata": {},
   "outputs": [
    {
     "name": "stdout",
     "output_type": "stream",
     "text": [
      "1727.46, 123.125, 148\n"
     ]
    }
   ],
   "source": [
    "text =\"{:.2f}, {:2.3f}, {:.0f}\".format (1727.4647, 123.125, 147.987)\n",
    "print(text)"
   ]
  },
  {
   "cell_type": "code",
   "execution_count": 17,
   "id": "407a6a0d",
   "metadata": {},
   "outputs": [
    {
     "name": "stdout",
     "output_type": "stream",
     "text": [
      "12321.4560, 987.15, 852.369000\n"
     ]
    }
   ],
   "source": [
    "listem = \"{:.4f}, {:.2f}, {:5f}\".format(12321.456, 987.1456, 852.369)\n",
    "print(listem)"
   ]
  },
  {
   "cell_type": "code",
   "execution_count": 6,
   "id": "33faa22e",
   "metadata": {},
   "outputs": [
    {
     "name": "stdout",
     "output_type": "stream",
     "text": [
      "a3, 5.b, 7.32\n"
     ]
    }
   ],
   "source": [
    "text = \"{:.2s}, {:.3s}, {:.4s}\".format(\"a3.1463\", \"5.b367\", \"7.324324c\")\n",
    "\n",
    "print(text)"
   ]
  },
  {
   "cell_type": "code",
   "execution_count": 20,
   "id": "ec2beee1",
   "metadata": {},
   "outputs": [
    {
     "name": "stdout",
     "output_type": "stream",
     "text": [
      "Ahm, Mehme,Muha\n"
     ]
    }
   ],
   "source": [
    "text = \"{:.3s}, {:.5s},{:.4s}\".format (\"Ahmet\", \"Mehmet\", \"Muhammet\")\n",
    "print(text)"
   ]
  },
  {
   "cell_type": "code",
   "execution_count": 22,
   "id": "0ec5b0fc",
   "metadata": {},
   "outputs": [
    {
     "name": "stdout",
     "output_type": "stream",
     "text": [
      "clarus, Big, 123\n"
     ]
    }
   ],
   "source": [
    "text = \"{:.6s}, {:.3s}, {:.0f}\".format(\"clarusway\", \"Big Animals\", 123.4678)\n",
    "print(text)"
   ]
  },
  {
   "cell_type": "code",
   "execution_count": 10,
   "id": "3f1b0b3b",
   "metadata": {},
   "outputs": [
    {
     "data": {
      "text/plain": [
       "'      test'"
      ]
     },
     "execution_count": 10,
     "metadata": {},
     "output_type": "execute_result"
    }
   ],
   "source": [
    "text = \"{:>10}\".format(\"test\")\n",
    "\n",
    "text"
   ]
  },
  {
   "cell_type": "code",
   "execution_count": 26,
   "id": "e8764887",
   "metadata": {},
   "outputs": [
    {
     "data": {
      "text/plain": [
       "'                text'"
      ]
     },
     "execution_count": 26,
     "metadata": {},
     "output_type": "execute_result"
    }
   ],
   "source": [
    "text = \"{:>20}\".format(\"text\")\n",
    "text"
   ]
  },
  {
   "cell_type": "code",
   "execution_count": 36,
   "id": "137246ce",
   "metadata": {},
   "outputs": [
    {
     "data": {
      "text/plain": [
       "'                     big_world'"
      ]
     },
     "execution_count": 36,
     "metadata": {},
     "output_type": "execute_result"
    }
   ],
   "source": [
    "big_world =\"{:>30}\".format(\"big_world\")\n",
    "big_world"
   ]
  },
  {
   "cell_type": "code",
   "execution_count": 17,
   "id": "fa87c989",
   "metadata": {},
   "outputs": [
    {
     "data": {
      "text/plain": [
       "'        abc         '"
      ]
     },
     "execution_count": 17,
     "metadata": {},
     "output_type": "execute_result"
    }
   ],
   "source": [
    "text = \"{:^20}\".format(\"abc\")\n",
    "text"
   ]
  },
  {
   "cell_type": "code",
   "execution_count": 38,
   "id": "7bfe8840",
   "metadata": {},
   "outputs": [
    {
     "data": {
      "text/plain": [
       "'      Muhammet      '"
      ]
     },
     "execution_count": 38,
     "metadata": {},
     "output_type": "execute_result"
    }
   ],
   "source": [
    "text = \"{:^20}\".format(\"Muhammet\")\n",
    "text"
   ]
  },
  {
   "cell_type": "code",
   "execution_count": 47,
   "id": "09ea3cc9",
   "metadata": {},
   "outputs": [
    {
     "data": {
      "text/plain": [
       "'          Submarine           '"
      ]
     },
     "execution_count": 47,
     "metadata": {},
     "output_type": "execute_result"
    }
   ],
   "source": [
    "text= \"{:^30}\".format(\"Submarine\")\n",
    "text"
   ]
  },
  {
   "cell_type": "code",
   "execution_count": 50,
   "id": "832e0528",
   "metadata": {},
   "outputs": [
    {
     "data": {
      "text/plain": [
       "'                    Submarine                     '"
      ]
     },
     "execution_count": 50,
     "metadata": {},
     "output_type": "execute_result"
    }
   ],
   "source": [
    "text= \"{:^50}\".format (\"Submarine\")\n",
    "text"
   ]
  },
  {
   "cell_type": "code",
   "execution_count": 56,
   "id": "fc4ada77",
   "metadata": {},
   "outputs": [
    {
     "data": {
      "text/plain": [
       "'Muham     '"
      ]
     },
     "execution_count": 56,
     "metadata": {},
     "output_type": "execute_result"
    }
   ],
   "source": [
    "text = \"{:10.5}\".format(\"Muhammet\")\n",
    "text"
   ]
  },
  {
   "cell_type": "code",
   "execution_count": 54,
   "id": "aa6f9ffd",
   "metadata": {},
   "outputs": [
    {
     "data": {
      "text/plain": [
       "'hippo     '"
      ]
     },
     "execution_count": 54,
     "metadata": {},
     "output_type": "execute_result"
    }
   ],
   "source": [
    "\"{:10.5}\".format(\"hippopotamus\")"
   ]
  },
  {
   "cell_type": "code",
   "execution_count": 57,
   "id": "a267865e",
   "metadata": {},
   "outputs": [
    {
     "data": {
      "text/plain": [
       "'gelmiş         '"
      ]
     },
     "execution_count": 57,
     "metadata": {},
     "output_type": "execute_result"
    }
   ],
   "source": [
    "\"{:15.6}\".format(\"gelmiş bahar\")"
   ]
  },
  {
   "cell_type": "code",
   "execution_count": 19,
   "id": "0e575491",
   "metadata": {},
   "outputs": [
    {
     "data": {
      "text/plain": [
       "'          hippo'"
      ]
     },
     "execution_count": 19,
     "metadata": {},
     "output_type": "execute_result"
    }
   ],
   "source": [
    "\"{:>15.5}\".format(\"hippopotamus\")"
   ]
  },
  {
   "cell_type": "code",
   "execution_count": 20,
   "id": "73259b3b",
   "metadata": {},
   "outputs": [
    {
     "data": {
      "text/plain": [
       "'+115'"
      ]
     },
     "execution_count": 20,
     "metadata": {},
     "output_type": "execute_result"
    }
   ],
   "source": [
    "\"{:+d}\".format(115)  # +115"
   ]
  },
  {
   "cell_type": "code",
   "execution_count": 58,
   "id": "a0fba052",
   "metadata": {},
   "outputs": [
    {
     "data": {
      "text/plain": [
       "'+1111'"
      ]
     },
     "execution_count": 58,
     "metadata": {},
     "output_type": "execute_result"
    }
   ],
   "source": [
    "\"{:+d}\". format (1111)"
   ]
  },
  {
   "cell_type": "code",
   "execution_count": 59,
   "id": "ae13254f",
   "metadata": {},
   "outputs": [
    {
     "data": {
      "text/plain": [
       "'+3461'"
      ]
     },
     "execution_count": 59,
     "metadata": {},
     "output_type": "execute_result"
    }
   ],
   "source": [
    "\"{:+d}\".format (3461)"
   ]
  },
  {
   "cell_type": "code",
   "execution_count": 22,
   "id": "aee07472",
   "metadata": {},
   "outputs": [
    {
     "data": {
      "text/plain": [
       "False"
      ]
     },
     "execution_count": 22,
     "metadata": {},
     "output_type": "execute_result"
    }
   ],
   "source": [
    "age = False\n",
    "chronic = False\n",
    "immune = False\n",
    "\n",
    "covid = age or chronic or immune\n",
    "\n",
    "covid"
   ]
  },
  {
   "cell_type": "code",
   "execution_count": 23,
   "id": "37810b3c",
   "metadata": {},
   "outputs": [],
   "source": [
    "list_1 = ['h', 'a', 'p', 'p', 'y']\n",
    "word = 'happy'\n",
    "list_2 = list(word)"
   ]
  },
  {
   "cell_type": "code",
   "execution_count": 24,
   "id": "21543ff9",
   "metadata": {},
   "outputs": [
    {
     "data": {
      "text/plain": [
       "['h', 'a', 'p', 'p', 'y']"
      ]
     },
     "execution_count": 24,
     "metadata": {},
     "output_type": "execute_result"
    }
   ],
   "source": [
    "list_1"
   ]
  },
  {
   "cell_type": "code",
   "execution_count": 25,
   "id": "537652da",
   "metadata": {},
   "outputs": [
    {
     "data": {
      "text/plain": [
       "['h', 'a', 'p', 'p', 'y']"
      ]
     },
     "execution_count": 25,
     "metadata": {},
     "output_type": "execute_result"
    }
   ],
   "source": [
    "list_2"
   ]
  },
  {
   "cell_type": "code",
   "execution_count": 26,
   "id": "ebb55d9d",
   "metadata": {},
   "outputs": [
    {
     "data": {
      "text/plain": [
       "['happy']"
      ]
     },
     "execution_count": 26,
     "metadata": {},
     "output_type": "execute_result"
    }
   ],
   "source": [
    "list_3 = ['happy']\n",
    "list_3"
   ]
  },
  {
   "cell_type": "code",
   "execution_count": 27,
   "id": "720d7de9",
   "metadata": {},
   "outputs": [
    {
     "data": {
      "text/plain": [
       "list"
      ]
     },
     "execution_count": 27,
     "metadata": {},
     "output_type": "execute_result"
    }
   ],
   "source": [
    "type(list_3)"
   ]
  },
  {
   "cell_type": "code",
   "execution_count": 28,
   "id": "3b7add9d",
   "metadata": {},
   "outputs": [],
   "source": [
    "list_4 = [\"ben bu insanlara ders anlatınca gerçekten çok rehabilite oluyorum. dersi iple çekiyorum.\"]"
   ]
  },
  {
   "cell_type": "code",
   "execution_count": 29,
   "id": "c8e0dd8b",
   "metadata": {},
   "outputs": [
    {
     "data": {
      "text/plain": [
       "['happy']"
      ]
     },
     "execution_count": 29,
     "metadata": {},
     "output_type": "execute_result"
    }
   ],
   "source": [
    "list_5 = list(list_3)\n",
    "\n",
    "list_5"
   ]
  },
  {
   "cell_type": "code",
   "execution_count": 30,
   "id": "f2dad5a1",
   "metadata": {},
   "outputs": [
    {
     "data": {
      "text/plain": [
       "['h', 'a', 'p', 'p', 'y']"
      ]
     },
     "execution_count": 30,
     "metadata": {},
     "output_type": "execute_result"
    }
   ],
   "source": [
    "list_6 = list(list_2)\n",
    "\n",
    "list_6"
   ]
  },
  {
   "cell_type": "code",
   "execution_count": 31,
   "id": "a71e4eac",
   "metadata": {},
   "outputs": [],
   "source": [
    "a = [\"2'!*?- abc+&$#123=*/\"]"
   ]
  },
  {
   "cell_type": "code",
   "execution_count": 32,
   "id": "05de2211",
   "metadata": {},
   "outputs": [
    {
     "data": {
      "text/plain": [
       "1"
      ]
     },
     "execution_count": 32,
     "metadata": {},
     "output_type": "execute_result"
    }
   ],
   "source": [
    "len(a)"
   ]
  },
  {
   "cell_type": "code",
   "execution_count": 60,
   "id": "52fe5b53",
   "metadata": {},
   "outputs": [
    {
     "data": {
      "text/plain": [
       "20"
      ]
     },
     "execution_count": 60,
     "metadata": {},
     "output_type": "execute_result"
    }
   ],
   "source": [
    "b = list(\"2'!*?- abc+&$#123=*/\")\n",
    "len(b)"
   ]
  },
  {
   "cell_type": "code",
   "execution_count": 34,
   "id": "0a9ecd47",
   "metadata": {},
   "outputs": [],
   "source": [
    "my_list = ['Joseph', 'Clarusway', 2020]\n",
    "new_list1 = list(my_list)  \n",
    "new_list2 = [my_list]  "
   ]
  },
  {
   "cell_type": "code",
   "execution_count": 35,
   "id": "a12c2f6a",
   "metadata": {},
   "outputs": [
    {
     "data": {
      "text/plain": [
       "['Joseph', 'Clarusway', 2020]"
      ]
     },
     "execution_count": 35,
     "metadata": {},
     "output_type": "execute_result"
    }
   ],
   "source": [
    "new_list1"
   ]
  },
  {
   "cell_type": "code",
   "execution_count": 36,
   "id": "ba76ae6a",
   "metadata": {},
   "outputs": [
    {
     "data": {
      "text/plain": [
       "[['Joseph', 'Clarusway', 2020]]"
      ]
     },
     "execution_count": 36,
     "metadata": {},
     "output_type": "execute_result"
    }
   ],
   "source": [
    "new_list2"
   ]
  },
  {
   "cell_type": "code",
   "execution_count": 37,
   "id": "add4767e",
   "metadata": {},
   "outputs": [
    {
     "data": {
      "text/plain": [
       "1"
      ]
     },
     "execution_count": 37,
     "metadata": {},
     "output_type": "execute_result"
    }
   ],
   "source": [
    "len(new_list2)"
   ]
  },
  {
   "cell_type": "code",
   "execution_count": 38,
   "id": "d018a2b3",
   "metadata": {},
   "outputs": [],
   "source": [
    "x = [[1,2,3], [4,5,6]]"
   ]
  },
  {
   "cell_type": "code",
   "execution_count": 39,
   "id": "51beb293",
   "metadata": {},
   "outputs": [
    {
     "data": {
      "text/plain": [
       "2"
      ]
     },
     "execution_count": 39,
     "metadata": {},
     "output_type": "execute_result"
    }
   ],
   "source": [
    "len(x)"
   ]
  },
  {
   "cell_type": "code",
   "execution_count": 40,
   "id": "968c61c6",
   "metadata": {},
   "outputs": [
    {
     "ename": "TypeError",
     "evalue": "'int' object is not iterable",
     "output_type": "error",
     "traceback": [
      "\u001b[0;31m---------------------------------------------------------------------------\u001b[0m",
      "\u001b[0;31mTypeError\u001b[0m                                 Traceback (most recent call last)",
      "\u001b[0;32m<ipython-input-40-e171d9ecc7c7>\u001b[0m in \u001b[0;36m<module>\u001b[0;34m\u001b[0m\n\u001b[0;32m----> 1\u001b[0;31m \u001b[0my\u001b[0m \u001b[0;34m=\u001b[0m \u001b[0mlist\u001b[0m\u001b[0;34m(\u001b[0m\u001b[0;36m2020\u001b[0m\u001b[0;34m)\u001b[0m\u001b[0;34m\u001b[0m\u001b[0;34m\u001b[0m\u001b[0m\n\u001b[0m\u001b[1;32m      2\u001b[0m \u001b[0mlen\u001b[0m\u001b[0;34m(\u001b[0m\u001b[0my\u001b[0m\u001b[0;34m)\u001b[0m\u001b[0;34m\u001b[0m\u001b[0;34m\u001b[0m\u001b[0m\n",
      "\u001b[0;31mTypeError\u001b[0m: 'int' object is not iterable"
     ]
    }
   ],
   "source": [
    "y = list(2020)\n",
    "len(y)"
   ]
  },
  {
   "cell_type": "code",
   "execution_count": 41,
   "id": "c18bd935",
   "metadata": {},
   "outputs": [
    {
     "data": {
      "text/plain": [
       "4"
      ]
     },
     "execution_count": 41,
     "metadata": {},
     "output_type": "execute_result"
    }
   ],
   "source": [
    "y = list(\"2020\")\n",
    "len(y)"
   ]
  },
  {
   "cell_type": "code",
   "execution_count": 42,
   "id": "7926ab2d",
   "metadata": {},
   "outputs": [
    {
     "data": {
      "text/plain": [
       "['2', '0', '2', '0']"
      ]
     },
     "execution_count": 42,
     "metadata": {},
     "output_type": "execute_result"
    }
   ],
   "source": [
    "y"
   ]
  },
  {
   "cell_type": "code",
   "execution_count": 43,
   "id": "db6c2a45",
   "metadata": {},
   "outputs": [],
   "source": [
    "yy = [\"ali\"]"
   ]
  },
  {
   "cell_type": "code",
   "execution_count": 44,
   "id": "eb8ab340",
   "metadata": {},
   "outputs": [
    {
     "data": {
      "text/plain": [
       "['ali']"
      ]
     },
     "execution_count": 44,
     "metadata": {},
     "output_type": "execute_result"
    }
   ],
   "source": [
    "yy[::-1]"
   ]
  },
  {
   "cell_type": "code",
   "execution_count": 45,
   "id": "2fb79bcd",
   "metadata": {},
   "outputs": [
    {
     "data": {
      "text/plain": [
       "[1]"
      ]
     },
     "execution_count": 45,
     "metadata": {},
     "output_type": "execute_result"
    }
   ],
   "source": [
    "zz = [1]\n",
    "\n",
    "zz[::-1]"
   ]
  },
  {
   "cell_type": "code",
   "execution_count": 46,
   "id": "49ea8dfa",
   "metadata": {},
   "outputs": [
    {
     "name": "stdout",
     "output_type": "stream",
     "text": [
      "3\n"
     ]
    }
   ],
   "source": [
    "print(len([[1, 2, 3]][0]))"
   ]
  },
  {
   "cell_type": "code",
   "execution_count": 47,
   "id": "444f509c",
   "metadata": {},
   "outputs": [
    {
     "data": {
      "text/plain": [
       "1"
      ]
     },
     "execution_count": 47,
     "metadata": {},
     "output_type": "execute_result"
    }
   ],
   "source": [
    "len([[]])"
   ]
  },
  {
   "cell_type": "code",
   "execution_count": 48,
   "id": "025a480f",
   "metadata": {},
   "outputs": [
    {
     "data": {
      "text/plain": [
       "1"
      ]
     },
     "execution_count": 48,
     "metadata": {},
     "output_type": "execute_result"
    }
   ],
   "source": [
    "len([\"\"])"
   ]
  },
  {
   "cell_type": "code",
   "execution_count": 49,
   "id": "6e989890",
   "metadata": {},
   "outputs": [],
   "source": [
    "sayılar = "
   ]
  },
  {
   "cell_type": "code",
   "execution_count": 64,
   "id": "482ffbb2",
   "metadata": {},
   "outputs": [
    {
     "name": "stdout",
     "output_type": "stream",
     "text": [
      "[1]\n"
     ]
    }
   ],
   "source": [
    "sayılar = []\n",
    "sayılar.append(1)\n",
    "print(sayılar)"
   ]
  },
  {
   "cell_type": "code",
   "execution_count": 65,
   "id": "9d8a5e68",
   "metadata": {},
   "outputs": [],
   "source": [
    "sayılar.append(2)"
   ]
  },
  {
   "cell_type": "code",
   "execution_count": 66,
   "id": "360ff154",
   "metadata": {},
   "outputs": [],
   "source": [
    "sayılar.append(3)"
   ]
  },
  {
   "cell_type": "code",
   "execution_count": 67,
   "id": "e5b0e98d",
   "metadata": {},
   "outputs": [
    {
     "data": {
      "text/plain": [
       "[1, 2, 3]"
      ]
     },
     "execution_count": 67,
     "metadata": {},
     "output_type": "execute_result"
    }
   ],
   "source": [
    "sayılar"
   ]
  },
  {
   "cell_type": "code",
   "execution_count": 68,
   "id": "899b0230",
   "metadata": {},
   "outputs": [],
   "source": [
    "sayılar.append(4)"
   ]
  },
  {
   "cell_type": "code",
   "execution_count": 69,
   "id": "01bf9d63",
   "metadata": {},
   "outputs": [
    {
     "data": {
      "text/plain": [
       "[1, 2, 3, 4]"
      ]
     },
     "execution_count": 69,
     "metadata": {},
     "output_type": "execute_result"
    }
   ],
   "source": [
    "sayılar"
   ]
  },
  {
   "cell_type": "code",
   "execution_count": 75,
   "id": "11aaa33c",
   "metadata": {},
   "outputs": [
    {
     "data": {
      "text/plain": [
       "[1, 2, 3, 4, 5, 5, 6, 6]"
      ]
     },
     "execution_count": 75,
     "metadata": {},
     "output_type": "execute_result"
    }
   ],
   "source": [
    "sayılar.insert(4,5)\n",
    "sayılar"
   ]
  },
  {
   "cell_type": "code",
   "execution_count": 76,
   "id": "515dcf1d",
   "metadata": {},
   "outputs": [],
   "source": [
    "sayılar.insert(6,6)"
   ]
  },
  {
   "cell_type": "code",
   "execution_count": 62,
   "id": "56240aaa",
   "metadata": {},
   "outputs": [
    {
     "data": {
      "text/plain": [
       "97"
      ]
     },
     "execution_count": 62,
     "metadata": {},
     "output_type": "execute_result"
    }
   ],
   "source": [
    "ord(\"a\")"
   ]
  },
  {
   "cell_type": "code",
   "execution_count": 63,
   "id": "aba035c6",
   "metadata": {},
   "outputs": [
    {
     "data": {
      "text/plain": [
       "98"
      ]
     },
     "execution_count": 63,
     "metadata": {},
     "output_type": "execute_result"
    }
   ],
   "source": [
    "ord(\"b\")"
   ]
  },
  {
   "cell_type": "code",
   "execution_count": 64,
   "id": "e3dd97c5",
   "metadata": {},
   "outputs": [
    {
     "data": {
      "text/plain": [
       "65"
      ]
     },
     "execution_count": 64,
     "metadata": {},
     "output_type": "execute_result"
    }
   ],
   "source": [
    "ord(\"A\")"
   ]
  },
  {
   "cell_type": "code",
   "execution_count": 77,
   "id": "a181e98c",
   "metadata": {},
   "outputs": [
    {
     "data": {
      "text/plain": [
       "67"
      ]
     },
     "execution_count": 77,
     "metadata": {},
     "output_type": "execute_result"
    }
   ],
   "source": [
    "ord(\"C\")"
   ]
  },
  {
   "cell_type": "code",
   "execution_count": 78,
   "id": "1007a063",
   "metadata": {},
   "outputs": [
    {
     "data": {
      "text/plain": [
       "109"
      ]
     },
     "execution_count": 78,
     "metadata": {},
     "output_type": "execute_result"
    }
   ],
   "source": [
    "ord(\"m\")"
   ]
  },
  {
   "cell_type": "code",
   "execution_count": 79,
   "id": "56feb376",
   "metadata": {},
   "outputs": [
    {
     "data": {
      "text/plain": [
       "77"
      ]
     },
     "execution_count": 79,
     "metadata": {},
     "output_type": "execute_result"
    }
   ],
   "source": [
    "ord(\"M\")"
   ]
  },
  {
   "cell_type": "code",
   "execution_count": 22,
   "id": "2e48a644",
   "metadata": {},
   "outputs": [
    {
     "data": {
      "text/plain": [
       "'F'"
      ]
     },
     "execution_count": 22,
     "metadata": {},
     "output_type": "execute_result"
    }
   ],
   "source": [
    "chr(70)"
   ]
  },
  {
   "cell_type": "code",
   "execution_count": 23,
   "id": "7571c955",
   "metadata": {},
   "outputs": [
    {
     "data": {
      "text/plain": [
       "'P'"
      ]
     },
     "execution_count": 23,
     "metadata": {},
     "output_type": "execute_result"
    }
   ],
   "source": [
    "chr(80)"
   ]
  },
  {
   "cell_type": "code",
   "execution_count": 24,
   "id": "348f23df",
   "metadata": {},
   "outputs": [
    {
     "data": {
      "text/plain": [
       "'Z'"
      ]
     },
     "execution_count": 24,
     "metadata": {},
     "output_type": "execute_result"
    }
   ],
   "source": [
    "chr(90)"
   ]
  },
  {
   "cell_type": "code",
   "execution_count": 83,
   "id": "c5d4d1b2",
   "metadata": {},
   "outputs": [
    {
     "name": "stdout",
     "output_type": "stream",
     "text": [
      "<class 'list'>\n",
      "8\n"
     ]
    }
   ],
   "source": [
    "listem36 = [1, 2, 3, 4, 5, 5, 6, 6]\n",
    "print(type(listem36))\n",
    "print(len(listem36))"
   ]
  },
  {
   "cell_type": "code",
   "execution_count": 84,
   "id": "0c0486b9",
   "metadata": {
    "scrolled": true
   },
   "outputs": [
    {
     "name": "stdout",
     "output_type": "stream",
     "text": [
      "['cherry', 'orange', 'kiwi']\n"
     ]
    }
   ],
   "source": [
    "thislist = [\"apple\", \"banana\", \"cherry\", \"orange\", \"kiwi\", \"melon\", \"mango\"]\n",
    "print(thislist[2:5])"
   ]
  },
  {
   "cell_type": "code",
   "execution_count": 85,
   "id": "5261b4bc",
   "metadata": {},
   "outputs": [
    {
     "name": "stdout",
     "output_type": "stream",
     "text": [
      "['apple', 'banana', 'cherry', 'orange']\n"
     ]
    }
   ],
   "source": [
    "thislist = [\"apple\", \"banana\", \"cherry\", \"orange\", \"kiwi\", \"melon\", \"mango\"]\n",
    "print(thislist[:4])"
   ]
  },
  {
   "cell_type": "code",
   "execution_count": 86,
   "id": "92335fbb",
   "metadata": {},
   "outputs": [
    {
     "name": "stdout",
     "output_type": "stream",
     "text": [
      "['cherry', 'orange', 'kiwi', 'melon', 'mango']\n"
     ]
    }
   ],
   "source": [
    "thislist = [\"apple\", \"banana\", \"cherry\", \"orange\", \"kiwi\", \"melon\", \"mango\"]\n",
    "print(thislist[2:])"
   ]
  },
  {
   "cell_type": "code",
   "execution_count": 87,
   "id": "78e1d5af",
   "metadata": {},
   "outputs": [
    {
     "name": "stdout",
     "output_type": "stream",
     "text": [
      "['orange', 'kiwi', 'melon']\n"
     ]
    }
   ],
   "source": [
    "thislist = [\"apple\", \"banana\", \"cherry\", \"orange\", \"kiwi\", \"melon\", \"mango\"]\n",
    "print(thislist[-4:-1])"
   ]
  },
  {
   "cell_type": "code",
   "execution_count": 88,
   "id": "ce1441ef",
   "metadata": {},
   "outputs": [
    {
     "name": "stdout",
     "output_type": "stream",
     "text": [
      "Yes, 'apple' is in the fruits list\n"
     ]
    }
   ],
   "source": [
    "thislist = [\"apple\", \"banana\", \"cherry\"]\n",
    "if \"apple\" in thislist:\n",
    "  print(\"Yes, 'apple' is in the fruits list\")\n"
   ]
  },
  {
   "cell_type": "code",
   "execution_count": 20,
   "id": "c85076f8",
   "metadata": {},
   "outputs": [
    {
     "name": "stdout",
     "output_type": "stream",
     "text": [
      "Beşiktaş is the champion of 2020/2021 \n"
     ]
    }
   ],
   "source": [
    "listem30 =[\"pencil\", \"notebook\", \"desk\", \"chair\"]\n",
    "if \"notebook\" in listem30 :\n",
    " print(\"Beşiktaş is the champion of 2020/2021 \")"
   ]
  },
  {
   "cell_type": "code",
   "execution_count": 21,
   "id": "b695c581",
   "metadata": {},
   "outputs": [
    {
     "name": "stdout",
     "output_type": "stream",
     "text": [
      "The world turns no matter what you say\n"
     ]
    }
   ],
   "source": [
    "listem31 = [\"The\", \"world\", \"turns\", \"no\", \"matter\", \"what\", \"you\", \"say\"]\n",
    "if \"world\" in listem31 :\n",
    " print(\"The world turns no matter what you say\")\n"
   ]
  },
  {
   "cell_type": "code",
   "execution_count": null,
   "id": "d7eb8bc8",
   "metadata": {},
   "outputs": [],
   "source": []
  },
  {
   "cell_type": "code",
   "execution_count": null,
   "id": "54f08384",
   "metadata": {},
   "outputs": [],
   "source": []
  }
 ],
 "metadata": {
  "kernelspec": {
   "display_name": "Python 3",
   "language": "python",
   "name": "python3"
  },
  "language_info": {
   "codemirror_mode": {
    "name": "ipython",
    "version": 3
   },
   "file_extension": ".py",
   "mimetype": "text/x-python",
   "name": "python",
   "nbconvert_exporter": "python",
   "pygments_lexer": "ipython3",
   "version": "3.8.8"
  }
 },
 "nbformat": 4,
 "nbformat_minor": 5
}
