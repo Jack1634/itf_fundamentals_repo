{
 "cells": [
  {
   "cell_type": "markdown",
   "id": "406f2981",
   "metadata": {
    "id": "406f2981"
   },
   "source": [
    "<img src=\"https://docs.google.com/uc?id=14xeXxFrVRjvOoUYWn_GuyE-v84wVzrqr\" class=\"img-fluid\" alt=\"CLRWY\" width=\"400\" height=\"200\">"
   ]
  },
  {
   "cell_type": "markdown",
   "id": "22263af8",
   "metadata": {
    "id": "22263af8"
   },
   "source": [
    "<h1><p style=\"text-align: center; color:darkblue\">Python In-Class, <br>14 June 2021</p><h1>"
   ]
  },
  {
   "cell_type": "code",
   "execution_count": null,
   "id": "5d8ab960",
   "metadata": {
    "id": "5d8ab960",
    "outputId": "23216e67-a151-408c-d5f8-aa608324e3fa"
   },
   "outputs": [
    {
     "ename": "SyntaxError",
     "evalue": "cannot assign to False (<ipython-input-1-2a7f5da85e97>, line 1)",
     "output_type": "error",
     "traceback": [
      "\u001b[0;36m  File \u001b[0;32m\"<ipython-input-1-2a7f5da85e97>\"\u001b[0;36m, line \u001b[0;32m1\u001b[0m\n\u001b[0;31m    False = \"joseph\"\u001b[0m\n\u001b[0m    ^\u001b[0m\n\u001b[0;31mSyntaxError\u001b[0m\u001b[0;31m:\u001b[0m cannot assign to False\n"
     ]
    }
   ],
   "source": [
    "False = \"joseph\""
   ]
  },
  {
   "cell_type": "code",
   "execution_count": 1,
   "id": "a66c483d",
   "metadata": {},
   "outputs": [
    {
     "ename": "SyntaxError",
     "evalue": "cannot assign to True (<ipython-input-1-5f5c8bfa9a31>, line 1)",
     "output_type": "error",
     "traceback": [
      "\u001b[1;36m  File \u001b[1;32m\"<ipython-input-1-5f5c8bfa9a31>\"\u001b[1;36m, line \u001b[1;32m1\u001b[0m\n\u001b[1;33m    True = \"Joseph\"\u001b[0m\n\u001b[1;37m    ^\u001b[0m\n\u001b[1;31mSyntaxError\u001b[0m\u001b[1;31m:\u001b[0m cannot assign to True\n"
     ]
    }
   ],
   "source": [
    "True = \"Joseph\""
   ]
  },
  {
   "cell_type": "code",
   "execution_count": null,
   "id": "cc8c26a2",
   "metadata": {
    "id": "cc8c26a2",
    "outputId": "a96eb04b-704f-4ffa-9166-abc37f7c85ce"
   },
   "outputs": [
    {
     "ename": "SyntaxError",
     "evalue": "invalid syntax (<ipython-input-2-142c6dce19e6>, line 1)",
     "output_type": "error",
     "traceback": [
      "\u001b[0;36m  File \u001b[0;32m\"<ipython-input-2-142c6dce19e6>\"\u001b[0;36m, line \u001b[0;32m1\u001b[0m\n\u001b[0;31m    class = \"clarusway\"\u001b[0m\n\u001b[0m          ^\u001b[0m\n\u001b[0;31mSyntaxError\u001b[0m\u001b[0;31m:\u001b[0m invalid syntax\n"
     ]
    }
   ],
   "source": [
    "class = \"clarusway\""
   ]
  },
  {
   "cell_type": "code",
   "execution_count": null,
   "id": "88f0445e",
   "metadata": {
    "id": "88f0445e",
    "outputId": "e198d163-2138-4da3-f105-931144f232ec"
   },
   "outputs": [
    {
     "ename": "SyntaxError",
     "evalue": "invalid syntax (<ipython-input-3-97f9ea2033bf>, line 1)",
     "output_type": "error",
     "traceback": [
      "\u001b[0;36m  File \u001b[0;32m\"<ipython-input-3-97f9ea2033bf>\"\u001b[0;36m, line \u001b[0;32m1\u001b[0m\n\u001b[0;31m    del = \"clarusway\"\u001b[0m\n\u001b[0m        ^\u001b[0m\n\u001b[0;31mSyntaxError\u001b[0m\u001b[0;31m:\u001b[0m invalid syntax\n"
     ]
    }
   ],
   "source": [
    "del = \"clarusway\""
   ]
  },
  {
   "cell_type": "code",
   "execution_count": 12,
   "id": "6d58648e",
   "metadata": {},
   "outputs": [
    {
     "ename": "SyntaxError",
     "evalue": "invalid syntax (<ipython-input-12-3419f42792b0>, line 1)",
     "output_type": "error",
     "traceback": [
      "\u001b[1;36m  File \u001b[1;32m\"<ipython-input-12-3419f42792b0>\"\u001b[1;36m, line \u001b[1;32m1\u001b[0m\n\u001b[1;33m    while = \"clarusway\"\u001b[0m\n\u001b[1;37m          ^\u001b[0m\n\u001b[1;31mSyntaxError\u001b[0m\u001b[1;31m:\u001b[0m invalid syntax\n"
     ]
    }
   ],
   "source": [
    "while = \"clarusway\""
   ]
  },
  {
   "cell_type": "code",
   "execution_count": 10,
   "id": "014db56b",
   "metadata": {
    "id": "014db56b"
   },
   "outputs": [],
   "source": [
    "false = \"sıkıntı olmadı\""
   ]
  },
  {
   "cell_type": "code",
   "execution_count": 13,
   "id": "a3e45ac4",
   "metadata": {
    "id": "a3e45ac4"
   },
   "outputs": [],
   "source": [
    "# python case sensitive bir dildir."
   ]
  },
  {
   "cell_type": "code",
   "execution_count": null,
   "id": "8ad7bb13",
   "metadata": {
    "id": "8ad7bb13"
   },
   "outputs": [],
   "source": [
    "x = y = z = \"clarusway\""
   ]
  },
  {
   "cell_type": "code",
   "execution_count": null,
   "id": "5115000c",
   "metadata": {
    "id": "5115000c",
    "outputId": "495e3508-5f81-42d1-adff-f8d85ed9d199"
   },
   "outputs": [
    {
     "name": "stdout",
     "output_type": "stream",
     "text": [
      "clarusway\n"
     ]
    }
   ],
   "source": [
    "print(x)"
   ]
  },
  {
   "cell_type": "code",
   "execution_count": null,
   "id": "d76fd234",
   "metadata": {
    "id": "d76fd234",
    "outputId": "0be4fec8-3801-4387-eb89-26d245ee2978"
   },
   "outputs": [
    {
     "name": "stdout",
     "output_type": "stream",
     "text": [
      "clarusway\n"
     ]
    }
   ],
   "source": [
    "print(y)"
   ]
  },
  {
   "cell_type": "code",
   "execution_count": null,
   "id": "969b4e98",
   "metadata": {
    "id": "969b4e98",
    "outputId": "164e3ebf-b64b-46ef-e2dd-ce6e23fae77c"
   },
   "outputs": [
    {
     "name": "stdout",
     "output_type": "stream",
     "text": [
      "clarusway\n"
     ]
    }
   ],
   "source": [
    "print(z)"
   ]
  },
  {
   "cell_type": "code",
   "execution_count": 14,
   "id": "7dd6a781",
   "metadata": {
    "id": "7dd6a781"
   },
   "outputs": [],
   "source": [
    "x = \"clarusway\"\n",
    "y = \"cilalı ibo\"\n",
    "z = x\n",
    "y = z\n",
    "x = \"nba\""
   ]
  },
  {
   "cell_type": "code",
   "execution_count": null,
   "id": "dc1862fe",
   "metadata": {
    "id": "dc1862fe",
    "outputId": "0d9a3161-e839-4596-bfd4-1f6cefdef8dd"
   },
   "outputs": [
    {
     "name": "stdout",
     "output_type": "stream",
     "text": [
      "nba\n",
      "clarusway\n",
      "clarusway\n"
     ]
    }
   ],
   "source": [
    "print(x)\n",
    "print(y)\n",
    "print(z)"
   ]
  },
  {
   "cell_type": "code",
   "execution_count": null,
   "id": "6761cc57",
   "metadata": {
    "id": "6761cc57"
   },
   "outputs": [],
   "source": [
    "string_değişken = \"clarusway'e gelin, iş garantinizi alın.\""
   ]
  },
  {
   "cell_type": "code",
   "execution_count": null,
   "id": "678f928c",
   "metadata": {
    "id": "678f928c",
    "outputId": "be3355c7-faeb-4f48-9862-61b6cad0deab"
   },
   "outputs": [
    {
     "data": {
      "text/plain": [
       "\"clarusway'e gelin, iş garantinizi alın.\""
      ]
     },
     "execution_count": 13,
     "metadata": {
      "tags": []
     },
     "output_type": "execute_result"
    }
   ],
   "source": [
    "string_değişken"
   ]
  },
  {
   "cell_type": "code",
   "execution_count": null,
   "id": "7b36c461",
   "metadata": {
    "id": "7b36c461",
    "outputId": "f2dce530-b9e1-43ad-b867-2d1e2c16a8ec"
   },
   "outputs": [
    {
     "data": {
      "text/plain": [
       "str"
      ]
     },
     "execution_count": 14,
     "metadata": {
      "tags": []
     },
     "output_type": "execute_result"
    }
   ],
   "source": [
    "type(string_değişken)"
   ]
  },
  {
   "cell_type": "code",
   "execution_count": null,
   "id": "5c5ad2e4",
   "metadata": {
    "id": "5c5ad2e4"
   },
   "outputs": [],
   "source": [
    "pi = 3.14"
   ]
  },
  {
   "cell_type": "code",
   "execution_count": null,
   "id": "f52a0228",
   "metadata": {
    "id": "f52a0228",
    "outputId": "0a06f19b-d573-47b7-a848-7df72ff815b0"
   },
   "outputs": [
    {
     "name": "stdout",
     "output_type": "stream",
     "text": [
      "3.14\n"
     ]
    }
   ],
   "source": [
    "print(pi)"
   ]
  },
  {
   "cell_type": "code",
   "execution_count": null,
   "id": "bb458307",
   "metadata": {
    "id": "bb458307",
    "outputId": "fc0898a1-f8a5-4021-faf6-ccff76476496"
   },
   "outputs": [
    {
     "data": {
      "text/plain": [
       "3.14"
      ]
     },
     "execution_count": 17,
     "metadata": {
      "tags": []
     },
     "output_type": "execute_result"
    }
   ],
   "source": [
    "pi"
   ]
  },
  {
   "cell_type": "code",
   "execution_count": null,
   "id": "d37a7eab",
   "metadata": {
    "id": "d37a7eab"
   },
   "outputs": [],
   "source": [
    "converted_pi = str(pi)"
   ]
  },
  {
   "cell_type": "code",
   "execution_count": null,
   "id": "7bab3d9a",
   "metadata": {
    "id": "7bab3d9a",
    "outputId": "e288a790-259c-4d45-8372-35da20070937"
   },
   "outputs": [
    {
     "data": {
      "text/plain": [
       "'3.14'"
      ]
     },
     "execution_count": 19,
     "metadata": {
      "tags": []
     },
     "output_type": "execute_result"
    }
   ],
   "source": [
    "converted_pi"
   ]
  },
  {
   "cell_type": "code",
   "execution_count": null,
   "id": "c51f5a46",
   "metadata": {
    "id": "c51f5a46"
   },
   "outputs": [],
   "source": []
  },
  {
   "cell_type": "code",
   "execution_count": null,
   "id": "d3345b5b",
   "metadata": {
    "id": "d3345b5b",
    "outputId": "64f83cc4-dd3e-41f8-f4c4-85caa4b6ad6e"
   },
   "outputs": [
    {
     "name": "stdout",
     "output_type": "stream",
     "text": [
      "<class 'str'>\n"
     ]
    }
   ],
   "source": [
    "print(type(converted_pi))"
   ]
  },
  {
   "cell_type": "code",
   "execution_count": null,
   "id": "b6f66c8b",
   "metadata": {
    "id": "b6f66c8b",
    "outputId": "77ff2256-92d2-48e8-d68a-104cc1b3739b"
   },
   "outputs": [
    {
     "data": {
      "text/plain": [
       "'clarusway'"
      ]
     },
     "execution_count": 21,
     "metadata": {
      "tags": []
     },
     "output_type": "execute_result"
    }
   ],
   "source": [
    "\"clarus\" + \"way\""
   ]
  },
  {
   "cell_type": "code",
   "execution_count": null,
   "id": "25b726cf",
   "metadata": {
    "id": "25b726cf",
    "outputId": "7c38602d-0eb1-4935-fc3a-399b702a592c"
   },
   "outputs": [
    {
     "ename": "TypeError",
     "evalue": "can only concatenate str (not \"int\") to str",
     "output_type": "error",
     "traceback": [
      "\u001b[0;31m---------------------------------------------------------------------------\u001b[0m",
      "\u001b[0;31mTypeError\u001b[0m                                 Traceback (most recent call last)",
      "\u001b[0;32m<ipython-input-22-2f73d21e6516>\u001b[0m in \u001b[0;36m<module>\u001b[0;34m\u001b[0m\n\u001b[0;32m----> 1\u001b[0;31m \u001b[0;34m\"12\"\u001b[0m \u001b[0;34m+\u001b[0m \u001b[0;36m12\u001b[0m\u001b[0;34m\u001b[0m\u001b[0;34m\u001b[0m\u001b[0m\n\u001b[0m",
      "\u001b[0;31mTypeError\u001b[0m: can only concatenate str (not \"int\") to str"
     ]
    }
   ],
   "source": [
    "\"12\" + 12"
   ]
  },
  {
   "cell_type": "code",
   "execution_count": null,
   "id": "3ff7b208",
   "metadata": {
    "id": "3ff7b208",
    "outputId": "11feebc1-a1b2-4ce0-a56b-f58c8eadb4c9"
   },
   "outputs": [
    {
     "data": {
      "text/plain": [
       "'1212'"
      ]
     },
     "execution_count": 23,
     "metadata": {
      "tags": []
     },
     "output_type": "execute_result"
    }
   ],
   "source": [
    "\"12\" + \"12\""
   ]
  },
  {
   "cell_type": "code",
   "execution_count": null,
   "id": "8afbf3f1",
   "metadata": {
    "id": "8afbf3f1",
    "outputId": "e47f32fe-1211-48e4-8d1c-cb4ef44620d0"
   },
   "outputs": [
    {
     "data": {
      "text/plain": [
       "24"
      ]
     },
     "execution_count": 24,
     "metadata": {
      "tags": []
     },
     "output_type": "execute_result"
    }
   ],
   "source": [
    "12 + 12"
   ]
  },
  {
   "cell_type": "code",
   "execution_count": null,
   "id": "202cd628",
   "metadata": {
    "id": "202cd628",
    "outputId": "183a94f7-79e3-4184-beab-4876aef8dc42"
   },
   "outputs": [
    {
     "data": {
      "text/plain": [
       "78.5"
      ]
     },
     "execution_count": 25,
     "metadata": {
      "tags": []
     },
     "output_type": "execute_result"
    }
   ],
   "source": [
    "pi = 3.14\n",
    "r = 5\n",
    "\n",
    "area = pi * r ** 2\n",
    "\n",
    "area"
   ]
  },
  {
   "cell_type": "code",
   "execution_count": null,
   "id": "7166cfe8",
   "metadata": {
    "id": "7166cfe8",
    "outputId": "0056a85b-70be-4f42-86cf-57b4c5ec0301"
   },
   "outputs": [
    {
     "data": {
      "text/plain": [
       "123.0"
      ]
     },
     "execution_count": 26,
     "metadata": {
      "tags": []
     },
     "output_type": "execute_result"
    }
   ],
   "source": [
    "10 + 2 ** 2.0 - (13-122)"
   ]
  },
  {
   "cell_type": "code",
   "execution_count": null,
   "id": "1ef95fd7",
   "metadata": {
    "id": "1ef95fd7",
    "outputId": "6e4a6adb-ac3b-4db1-b02a-305515f2082d"
   },
   "outputs": [
    {
     "data": {
      "text/plain": [
       "6"
      ]
     },
     "execution_count": 27,
     "metadata": {
      "tags": []
     },
     "output_type": "execute_result"
    }
   ],
   "source": [
    "x = 5\n",
    "x = x + 1\n",
    "x"
   ]
  },
  {
   "cell_type": "code",
   "execution_count": null,
   "id": "670b2b7a",
   "metadata": {
    "id": "670b2b7a",
    "outputId": "cc2cc9b3-cde1-41e5-f8b8-9fd82c411535"
   },
   "outputs": [
    {
     "data": {
      "text/plain": [
       "7"
      ]
     },
     "execution_count": 28,
     "metadata": {
      "tags": []
     },
     "output_type": "execute_result"
    }
   ],
   "source": [
    "x = x + 1\n",
    "x"
   ]
  },
  {
   "cell_type": "code",
   "execution_count": null,
   "id": "b771ad66",
   "metadata": {
    "id": "b771ad66",
    "outputId": "3a542e40-91af-4d77-eda1-c7eba3fe89ac"
   },
   "outputs": [
    {
     "data": {
      "text/plain": [
       "8"
      ]
     },
     "execution_count": 29,
     "metadata": {
      "tags": []
     },
     "output_type": "execute_result"
    }
   ],
   "source": [
    "x = x + 1\n",
    "x"
   ]
  },
  {
   "cell_type": "code",
   "execution_count": null,
   "id": "cd982ae9",
   "metadata": {
    "id": "cd982ae9",
    "outputId": "b0978e1a-e28f-418d-8e57-8733d03cbfd8"
   },
   "outputs": [
    {
     "data": {
      "text/plain": [
       "12"
      ]
     },
     "execution_count": 33,
     "metadata": {
      "tags": []
     },
     "output_type": "execute_result"
    }
   ],
   "source": [
    "x += 1\n",
    "x"
   ]
  },
  {
   "cell_type": "code",
   "execution_count": null,
   "id": "4bdb5d90",
   "metadata": {
    "id": "4bdb5d90",
    "outputId": "9f4bf23b-3981-4d97-f708-de8be012cc18"
   },
   "outputs": [
    {
     "data": {
      "text/plain": [
       "6"
      ]
     },
     "execution_count": 38,
     "metadata": {
      "tags": []
     },
     "output_type": "execute_result"
    }
   ],
   "source": [
    "y = 3\n",
    "y = y * 2\n",
    "y"
   ]
  },
  {
   "cell_type": "code",
   "execution_count": null,
   "id": "b4b5aefd",
   "metadata": {
    "id": "b4b5aefd",
    "outputId": "db3b7b3d-6412-4a89-e3b5-83ba45f0cfc1"
   },
   "outputs": [
    {
     "data": {
      "text/plain": [
       "12"
      ]
     },
     "execution_count": 39,
     "metadata": {
      "tags": []
     },
     "output_type": "execute_result"
    }
   ],
   "source": [
    "y *= 2\n",
    "y"
   ]
  },
  {
   "cell_type": "code",
   "execution_count": null,
   "id": "d1a5efbf",
   "metadata": {
    "id": "d1a5efbf",
    "outputId": "4093a2ff-de83-496a-c89e-1c80600b59cb"
   },
   "outputs": [
    {
     "data": {
      "text/plain": [
       "24"
      ]
     },
     "execution_count": 40,
     "metadata": {
      "tags": []
     },
     "output_type": "execute_result"
    }
   ],
   "source": [
    "y *= 2\n",
    "y"
   ]
  },
  {
   "cell_type": "code",
   "execution_count": null,
   "id": "3526c00a",
   "metadata": {
    "id": "3526c00a",
    "outputId": "ffa37504-9b99-4db5-dcdb-cca7d9e568a2"
   },
   "outputs": [
    {
     "data": {
      "text/plain": [
       "6"
      ]
     },
     "execution_count": 37,
     "metadata": {
      "tags": []
     },
     "output_type": "execute_result"
    }
   ],
   "source": [
    "aa = 5\n",
    "aa = 6\n",
    "aa"
   ]
  },
  {
   "cell_type": "code",
   "execution_count": null,
   "id": "fe8f2a51",
   "metadata": {
    "colab": {
     "base_uri": "https://localhost:8080/"
    },
    "id": "fe8f2a51",
    "outputId": "072cd3d1-3d38-48b9-c815-033d5daa4f9a"
   },
   "outputs": [
    {
     "name": "stdout",
     "output_type": "stream",
     "text": [
      "1.sayı: 2\n",
      "2.sayı: 5\n",
      "-7\n"
     ]
    }
   ],
   "source": [
    "x, y, z = 2, 5, 10\n",
    "a = int(input('1.sayı: '))\n",
    "b = int(input('2.sayı: '))\n",
    "result = (a * b) - (x+y+z)\n",
    "print(result)"
   ]
  },
  {
   "cell_type": "code",
   "execution_count": null,
   "id": "4310e4a8",
   "metadata": {
    "colab": {
     "base_uri": "https://localhost:8080/"
    },
    "id": "4310e4a8",
    "outputId": "295951ae-5443-45a9-850f-fd29421a015c"
   },
   "outputs": [
    {
     "name": "stdout",
     "output_type": "stream",
     "text": [
      "2\n"
     ]
    }
   ],
   "source": [
    "x, y, z = 2, 5, 10\n",
    "toplam = (x + y + z) % 3\n",
    "print(toplam)\n"
   ]
  }
 ],
 "metadata": {
  "colab": {
   "name": "02_PythonBasic_14-June-2021.ipynb",
   "provenance": []
  },
  "kernelspec": {
   "display_name": "Python 3",
   "language": "python",
   "name": "python3"
  },
  "language_info": {
   "codemirror_mode": {
    "name": "ipython",
    "version": 3
   },
   "file_extension": ".py",
   "mimetype": "text/x-python",
   "name": "python",
   "nbconvert_exporter": "python",
   "pygments_lexer": "ipython3",
   "version": "3.8.8"
  }
 },
 "nbformat": 4,
 "nbformat_minor": 5
}
