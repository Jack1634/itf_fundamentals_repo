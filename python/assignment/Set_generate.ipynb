{
 "cells": [
  {
   "cell_type": "code",
   "execution_count": null,
   "id": "3c7e55f3",
   "metadata": {},
   "outputs": [],
   "source": [
    "Write a function\n",
    "that, given a set, generates its power set.\n",
    "For example, given the set {1, 2, 3}, it should return {{}, {1}, {2}, {3},\n",
    "{1, 2}, {1, 3}, {2, 3}, {1, 2, 3}}.\n",
    "You may also use a list or array to represent a set."
   ]
  },
  {
   "cell_type": "code",
   "execution_count": 8,
   "id": "b504a324",
   "metadata": {},
   "outputs": [
    {
     "name": "stdout",
     "output_type": "stream",
     "text": [
      "[[], [1], [2], [1, 2], [3], [1, 3], [2, 3], [1, 2, 3]]\n"
     ]
    }
   ],
   "source": [
    "def a(s):\n",
    "    l = [[]]\n",
    "    for i in range(0,len(s)):\n",
    "        for j in range(0,len(l)):\n",
    "            x = l[j].copy()\n",
    "            x += [s[i]]\n",
    "            l +=  [x]\n",
    "    return l\n",
    "print(a([1,2,3]))"
   ]
  },
  {
   "cell_type": "code",
   "execution_count": null,
   "id": "2d130fe7",
   "metadata": {},
   "outputs": [],
   "source": []
  }
 ],
 "metadata": {
  "kernelspec": {
   "display_name": "Python 3",
   "language": "python",
   "name": "python3"
  },
  "language_info": {
   "codemirror_mode": {
    "name": "ipython",
    "version": 3
   },
   "file_extension": ".py",
   "mimetype": "text/x-python",
   "name": "python",
   "nbconvert_exporter": "python",
   "pygments_lexer": "ipython3",
   "version": "3.8.8"
  }
 },
 "nbformat": 4,
 "nbformat_minor": 5
}
