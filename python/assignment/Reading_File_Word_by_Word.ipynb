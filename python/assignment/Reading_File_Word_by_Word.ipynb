{
 "cells": [
  {
   "cell_type": "code",
   "execution_count": null,
   "id": "357c7700",
   "metadata": {},
   "outputs": [],
   "source": [
    "Write program to read file word by word:\n",
    "\n",
    "input= \"Hello! I am Muhammet\"\n",
    "\n",
    "output = \n",
    "Hello!\n",
    "I\n",
    "am\n",
    "Muhammet"
   ]
  },
  {
   "cell_type": "code",
   "execution_count": null,
   "id": "bab8b5c2",
   "metadata": {},
   "outputs": [],
   "source": [
    "with open('Demo_file.txt','r') as file:\n",
    "    for line in file:\n",
    "        for word in line.split():\n",
    "            print(word) "
   ]
  }
 ],
 "metadata": {
  "kernelspec": {
   "display_name": "Python 3",
   "language": "python",
   "name": "python3"
  },
  "language_info": {
   "codemirror_mode": {
    "name": "ipython",
    "version": 3
   },
   "file_extension": ".py",
   "mimetype": "text/x-python",
   "name": "python",
   "nbconvert_exporter": "python",
   "pygments_lexer": "ipython3",
   "version": "3.8.8"
  }
 },
 "nbformat": 4,
 "nbformat_minor": 5
}
