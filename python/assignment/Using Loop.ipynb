{
 "cells": [
  {
   "cell_type": "code",
   "execution_count": null,
   "id": "afcc3887",
   "metadata": {},
   "outputs": [],
   "source": [
    "How can we get this output :\n",
    "\n",
    "The main number is 7.\n",
    "7 - 7 = 0\n",
    "7 - 8 = 1\n",
    "7 - 9 = 2\n",
    "The main number is 8.\n",
    "8 - 7 = 1\n",
    "8 - 8 = 0\n",
    "8 - 9 = 1\n",
    "The main number is 9.\n",
    "9 - 7 = 2\n",
    "9 - 8 = 1\n",
    "9 - 9 = 0"
   ]
  },
  {
   "cell_type": "code",
   "execution_count": 1,
   "id": "1a77473a",
   "metadata": {},
   "outputs": [
    {
     "name": "stdout",
     "output_type": "stream",
     "text": [
      "The main number is 7.\n",
      "7 - 7 = 0\n",
      "7 - 8 = 1\n",
      "7 - 9 = 2\n",
      "The main number is 8.\n",
      "8 - 7 = 1\n",
      "8 - 8 = 0\n",
      "8 - 9 = 1\n",
      "The main number is 9.\n",
      "9 - 7 = 2\n",
      "9 - 8 = 1\n",
      "9 - 9 = 0\n"
     ]
    }
   ],
   "source": [
    "# Solution\n",
    "\n",
    "x=[7,8,9]\n",
    "for i in x:\n",
    "    print(f'The main number is {i}.')\n",
    "    for j in x:\n",
    "       print(f\"{i} - {j} = {abs(i-j)}\")"
   ]
  },
  {
   "cell_type": "code",
   "execution_count": null,
   "id": "678e5f7f",
   "metadata": {},
   "outputs": [],
   "source": []
  }
 ],
 "metadata": {
  "kernelspec": {
   "display_name": "Python 3",
   "language": "python",
   "name": "python3"
  },
  "language_info": {
   "codemirror_mode": {
    "name": "ipython",
    "version": 3
   },
   "file_extension": ".py",
   "mimetype": "text/x-python",
   "name": "python",
   "nbconvert_exporter": "python",
   "pygments_lexer": "ipython3",
   "version": "3.8.8"
  }
 },
 "nbformat": 4,
 "nbformat_minor": 5
}
