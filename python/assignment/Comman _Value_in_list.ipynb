{
 "cells": [
  {
   "cell_type": "code",
   "execution_count": null,
   "source": [
    "Find the common value in two given list.\r\n",
    "\r\n",
    "list1 = [2, 4, 6, 8, 10, 12, 14]\r\n",
    "list2 = [6, 8, 10, 12 ,16, 18, 20]\r\n"
   ],
   "outputs": [],
   "metadata": {}
  },
  {
   "cell_type": "code",
   "execution_count": 1,
   "source": [
    "list1 = [2, 4, 6, 8, 10, 12, 14]\r\n",
    "list2 = [6, 8, 10, 12 ,16, 18, 20]\r\n",
    "for i in list1:\r\n",
    "    for j in list2:\r\n",
    "        if i==j:\r\n",
    "            print(i, end=\" \")"
   ],
   "outputs": [
    {
     "output_type": "stream",
     "name": "stdout",
     "text": [
      "6 8 10 12 "
     ]
    }
   ],
   "metadata": {}
  }
 ],
 "metadata": {
  "orig_nbformat": 4,
  "language_info": {
   "name": "python",
   "version": "3.8.8",
   "mimetype": "text/x-python",
   "codemirror_mode": {
    "name": "ipython",
    "version": 3
   },
   "pygments_lexer": "ipython3",
   "nbconvert_exporter": "python",
   "file_extension": ".py"
  },
  "kernelspec": {
   "name": "python3",
   "display_name": "Python 3.8.8 64-bit ('base': conda)"
  },
  "interpreter": {
   "hash": "9aad3665245237139e31dcd97f83c485e70b5b19c86b3df369a97cbca2a448f8"
  }
 },
 "nbformat": 4,
 "nbformat_minor": 2
}