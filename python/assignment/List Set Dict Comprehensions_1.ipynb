{
 "cells": [
  {
   "cell_type": "code",
   "execution_count": null,
   "id": "373f1ce1",
   "metadata": {},
   "outputs": [],
   "source": [
    "1. Create a Dictionary which contains the Binary values mapping with numbers found in the below integer and binary \n",
    "and save it in binary_dict. \n",
    "\n",
    "integer = [0, 1, 2, 3, 4]\n",
    "binary = [\"0\", \"1\", \"10\", \"11\", \"100\"]"
   ]
  },
  {
   "cell_type": "code",
   "execution_count": 6,
   "id": "9826d8c5",
   "metadata": {},
   "outputs": [
    {
     "name": "stdout",
     "output_type": "stream",
     "text": [
      "{0: '0', 1: '1', 2: '10', 3: '11', 4: '100'}\n"
     ]
    }
   ],
   "source": [
    "# solution 1\n",
    "\n",
    "integer = [0, 1, 2, 3, 4]\n",
    "binary = [\"0\", \"1\", \"10\", \"11\", \"100\"]\n",
    "\n",
    "\n",
    "result=dict(zip(integer, binary))\n",
    "print(result)"
   ]
  },
  {
   "cell_type": "code",
   "execution_count": 8,
   "id": "61f7250e",
   "metadata": {},
   "outputs": [
    {
     "name": "stdout",
     "output_type": "stream",
     "text": [
      "{0: '0', 1: '1', 2: '10', 3: '11', 4: '100'}\n"
     ]
    }
   ],
   "source": [
    "# solution2\n",
    "\n",
    "integer = [0, 1, 2, 3, 4]\n",
    "binary = [\"0\", \"1\", \"10\", \"11\", \"100\"]\n",
    "\n",
    "binary_dict = {integer: binary for integer, binary in zip(integer, binary)}\n",
    "print(binary_dict)"
   ]
  },
  {
   "cell_type": "code",
   "execution_count": null,
   "id": "dbb3d832",
   "metadata": {},
   "outputs": [],
   "source": []
  }
 ],
 "metadata": {
  "kernelspec": {
   "display_name": "Python 3",
   "language": "python",
   "name": "python3"
  },
  "language_info": {
   "codemirror_mode": {
    "name": "ipython",
    "version": 3
   },
   "file_extension": ".py",
   "mimetype": "text/x-python",
   "name": "python",
   "nbconvert_exporter": "python",
   "pygments_lexer": "ipython3",
   "version": "3.8.8"
  }
 },
 "nbformat": 4,
 "nbformat_minor": 5
}
