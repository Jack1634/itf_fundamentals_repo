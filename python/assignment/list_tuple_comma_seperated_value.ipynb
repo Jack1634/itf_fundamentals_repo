{
 "cells": [
  {
   "cell_type": "code",
   "execution_count": null,
   "id": "adbc2f2b",
   "metadata": {},
   "outputs": [],
   "source": [
    "Write a program which accepts a sequence of comma-separated numbers from console and \n",
    "generate a list and a tuple which contains every number.Suppose the following input is supplied to the program:\n",
    "    "
   ]
  },
  {
   "cell_type": "code",
   "execution_count": 1,
   "id": "cd122a7b",
   "metadata": {},
   "outputs": [
    {
     "name": "stdout",
     "output_type": "stream",
     "text": [
      " 25, 26, 30, 40, 15, 12\n",
      "['25', ' 26', ' 30', ' 40', ' 15', ' 12'] ('25', ' 26', ' 30', ' 40', ' 15', ' 12')\n"
     ]
    }
   ],
   "source": [
    "user_input = input(\" \").split(\",\")\n",
    "a = user_input\n",
    "b = tuple(user_input)\n",
    "print(a,b)\n"
   ]
  },
  {
   "cell_type": "code",
   "execution_count": null,
   "id": "6bb53ccb",
   "metadata": {},
   "outputs": [],
   "source": []
  }
 ],
 "metadata": {
  "kernelspec": {
   "display_name": "Python 3",
   "language": "python",
   "name": "python3"
  },
  "language_info": {
   "codemirror_mode": {
    "name": "ipython",
    "version": 3
   },
   "file_extension": ".py",
   "mimetype": "text/x-python",
   "name": "python",
   "nbconvert_exporter": "python",
   "pygments_lexer": "ipython3",
   "version": "3.8.8"
  }
 },
 "nbformat": 4,
 "nbformat_minor": 5
}
