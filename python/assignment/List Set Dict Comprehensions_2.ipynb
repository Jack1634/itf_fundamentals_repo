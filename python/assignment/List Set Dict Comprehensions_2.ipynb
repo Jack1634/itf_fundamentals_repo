{
 "cells": [
  {
   "cell_type": "code",
   "execution_count": null,
   "id": "d86c0c85",
   "metadata": {},
   "outputs": [],
   "source": [
    " Create a List which contains additive inverse of a given integer list. \n",
    "An additive inverse `a` for an integer `i` is a number such that:\n",
    "    \n",
    "integer = [1, -1, 2, 3, 5, 0, -7]\n",
    "additive_inverse = [-1, 1, -2, -3, -5, 0, 7]   "
   ]
  },
  {
   "cell_type": "code",
   "execution_count": 1,
   "id": "99a30db8",
   "metadata": {},
   "outputs": [
    {
     "name": "stdout",
     "output_type": "stream",
     "text": [
      "[-1, 1, -2, -3, -5, 0, 7]\n"
     ]
    }
   ],
   "source": [
    "#solution \n",
    "\n",
    "integer = [1, -1, 2, 3, 5, 0, -7]\n",
    "additive_inverse = [-1*i for i in integer]\n",
    "print(additive_inverse)"
   ]
  },
  {
   "cell_type": "code",
   "execution_count": null,
   "id": "b627f5b4",
   "metadata": {},
   "outputs": [],
   "source": []
  }
 ],
 "metadata": {
  "kernelspec": {
   "display_name": "Python 3",
   "language": "python",
   "name": "python3"
  },
  "language_info": {
   "codemirror_mode": {
    "name": "ipython",
    "version": 3
   },
   "file_extension": ".py",
   "mimetype": "text/x-python",
   "name": "python",
   "nbconvert_exporter": "python",
   "pygments_lexer": "ipython3",
   "version": "3.8.8"
  }
 },
 "nbformat": 4,
 "nbformat_minor": 5
}
