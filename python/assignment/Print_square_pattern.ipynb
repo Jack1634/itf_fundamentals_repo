{
 "cells": [
  {
   "cell_type": "code",
   "execution_count": null,
   "id": "21d148e2",
   "metadata": {},
   "outputs": [],
   "source": [
    "Example :print square pattern with alphabet symbols:\n",
    "output:\n",
    "    \n",
    "A A A A A A A \n",
    "B B B B B B B \n",
    "C C C C C C C \n",
    "D D D D D D D \n",
    "E E E E E E E \n",
    "F F F F F F F \n",
    "G G G G G G G "
   ]
  },
  {
   "cell_type": "code",
   "execution_count": 5,
   "id": "dd1f6af8",
   "metadata": {},
   "outputs": [
    {
     "name": "stdout",
     "output_type": "stream",
     "text": [
      "Enter No Of Rows:6\n",
      "A A A A A A \n",
      "B B B B B B \n",
      "C C C C C C \n",
      "D D D D D D \n",
      "E E E E E E \n",
      "F F F F F F \n"
     ]
    }
   ],
   "source": [
    "n=int(input('Enter No Of Rows:'))\n",
    "for i in range(n):\n",
    "    print((chr(65+i)+' ')*n) "
   ]
  },
  {
   "cell_type": "code",
   "execution_count": null,
   "id": "4e8e0624",
   "metadata": {},
   "outputs": [],
   "source": []
  }
 ],
 "metadata": {
  "kernelspec": {
   "display_name": "Python 3",
   "language": "python",
   "name": "python3"
  },
  "language_info": {
   "codemirror_mode": {
    "name": "ipython",
    "version": 3
   },
   "file_extension": ".py",
   "mimetype": "text/x-python",
   "name": "python",
   "nbconvert_exporter": "python",
   "pygments_lexer": "ipython3",
   "version": "3.8.8"
  }
 },
 "nbformat": 4,
 "nbformat_minor": 5
}
