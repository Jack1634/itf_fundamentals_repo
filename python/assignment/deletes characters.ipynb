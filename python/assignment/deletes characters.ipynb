{
 "cells": [
  {
   "cell_type": "code",
   "execution_count": null,
   "id": "ebf74944",
   "metadata": {},
   "outputs": [],
   "source": [
    "# Write an efficient function that deletes characters from an ASCII\n",
    "string where any character existing in remove must be deleted from\n",
    "str. For example, given a str of \"Battle of the Vowels: Hawaii vs.\n",
    "Grozny\" and a remove of \"aeiou\", the function should transform str\n",
    "to “Bttl f th Vwls: Hw vs. Grzny”."
   ]
  },
  {
   "cell_type": "code",
   "execution_count": 1,
   "id": "63df1a12",
   "metadata": {},
   "outputs": [
    {
     "name": "stdout",
     "output_type": "stream",
     "text": [
      "Bttl f th Vwls: Hw vs. Grzny\n"
     ]
    }
   ],
   "source": [
    "def removeChars(main_string, remove_string):\n",
    "    result = \"\"\n",
    "    for char in main_string:\n",
    "        if char not in remove_string:\n",
    "            result += char\n",
    "    return result\n",
    "\n",
    "\n",
    "given_input = \"Battle of the Vowels: Hawaii vs. Grozny\"\n",
    "vowels = \"aeiou\"\n",
    "print(removeChars(given_input, vowels))"
   ]
  },
  {
   "cell_type": "code",
   "execution_count": null,
   "id": "6994a12c",
   "metadata": {},
   "outputs": [],
   "source": []
  }
 ],
 "metadata": {
  "kernelspec": {
   "display_name": "Python 3",
   "language": "python",
   "name": "python3"
  },
  "language_info": {
   "codemirror_mode": {
    "name": "ipython",
    "version": 3
   },
   "file_extension": ".py",
   "mimetype": "text/x-python",
   "name": "python",
   "nbconvert_exporter": "python",
   "pygments_lexer": "ipython3",
   "version": "3.8.8"
  }
 },
 "nbformat": 4,
 "nbformat_minor": 5
}
