{
 "cells": [
  {
   "cell_type": "code",
   "execution_count": 3,
   "metadata": {},
   "outputs": [],
   "source": [
    "## Coding Challenge - 2: Sudoku Format Converter&Printer\n",
    "\n",
    "The purpose of this coding challenge is to write a program that prints the given lists as sudoku looking format.\n",
    "\n",
    "### Learning Outcomes\n",
    "\n",
    "At the end of this coding challenge, students will be able to;\n",
    "\n",
    "- analyze a problem, identify, and apply programming knowledge for appropriate solution.\n",
    "\n",
    "- design, implement `arithmetic operators` and nested loops effectively in Python to solve the given problem.\n",
    "\n",
    "- demonstrate their knowledge of algorithmic design principles by solving the problem effectively.\n",
    "\n",
    "### Problem Statement\n",
    "\n",
    "ask: The department you work for has received a project that displays the solved sudoku puzzles in a digital environment. \n",
    "\n",
    "Write a Python code to print out the given sudoku puzzle matrix in the following format.\n",
    "Given format :\n",
    "sudoku = [\n",
    "    [0, 0, 0, 0, 6, 4, 0, 0, 0],\n",
    "    [7, 0, 0, 0, 0, 0, 3, 9, 0],\n",
    "    [8, 0, 0, 0, 0, 0, 0, 0, 0],\n",
    "    [0, 0, 0, 5, 0, 2, 0, 6, 0],\n",
    "    [0, 8, 0, 4, 0, 0, 0, 0, 0],\n",
    "    [3, 5, 0, 6, 0, 0, 0, 7, 0],\n",
    "    [0, 0, 2, 0, 0, 0, 1, 0, 3],\n",
    "    [0, 0, 1, 0, 5, 9, 0, 0, 0],\n",
    "    [0, 0, 0, 0, 0, 0, 7, 0, 0]\n",
    "]\n",
    "Desired output format :\n",
    "- - - - - - - - - - - - - - - \n",
    "0  0  0  | 0  6  4  | 0  0  0  \n",
    "7  0  0  | 0  0  0  | 3  9  0  \n",
    "8  0  0  | 0  0  0  | 0  0  0  \n",
    "- - - - - - - - - - - - - - - \n",
    "0  0  0  | 5  0  2  | 0  6  0  \n",
    "0  8  0  | 4  0  0  | 0  0  0  \n",
    "3  5  0  | 6  0  0  | 0  7  0  \n",
    "- - - - - - - - - - - - - - - \n",
    "0  0  2  | 0  0  0  | 1  0  3  \n",
    "0  0  1  | 0  5  9  | 0  0  0  \n",
    "0  0  0  | 0  0  0  | 7  0  0  \n",
    "- - - - - - - - - - - - - - -"
   ]
  },
  {
   "cell_type": "code",
   "execution_count": 1,
   "metadata": {},
   "outputs": [
    {
     "name": "stdout",
     "output_type": "stream",
     "text": [
      "---------------------\n",
      "0 0 0 | 0 6 4 | 0 0 0\n",
      "7 0 0 | 0 0 0 | 3 9 0\n",
      "8 0 0 | 0 0 0 | 0 0 0\n",
      "---------------------\n",
      "0 0 0 | 5 0 2 | 0 6 0\n",
      "0 8 0 | 4 0 0 | 0 0 0\n",
      "3 5 0 | 6 0 0 | 0 7 0\n",
      "---------------------\n",
      "0 0 2 | 0 0 0 | 1 0 3\n",
      "0 0 1 | 0 5 9 | 0 0 0\n",
      "0 0 0 | 0 0 0 | 7 0 0\n",
      "---------------------\n"
     ]
    }
   ],
   "source": [
    "sudoku = [ [0, 0, 0, 0, 6, 4, 0, 0, 0], [7, 0, 0, 0, 0, 0, 3, 9, 0], [8, 0, 0, 0, 0, 0, 0, 0, 0], [0, 0, 0, 5, 0, 2, 0, 6, 0],\n",
    "[0, 8, 0, 4, 0, 0, 0, 0, 0], [3, 5, 0, 6, 0, 0, 0, 7, 0], [0, 0, 2, 0, 0, 0, 1, 0, 3], [0, 0, 1, 0, 5, 9, 0, 0, 0],\n",
    "[0, 0, 0, 0, 0, 0, 7, 0, 0] ]\n",
    "\n",
    "b = sudoku[0:3]\n",
    "c = sudoku[3:6]\n",
    "d = sudoku[6:9]\n",
    "x = [b, c, d]\n",
    "for i in x :\n",
    "    print(21* \"-\")\n",
    "    for j in i:\n",
    "        print((*j[0:3]), '|',(*j[3:6]), '|', (*j[6:9]))\n",
    "print(21* \"-\")\n"
   ]
  },
  {
   "cell_type": "code",
   "execution_count": null,
   "metadata": {},
   "outputs": [],
   "source": []
  }
 ],
 "metadata": {
  "interpreter": {
   "hash": "f2ed423f5e7ec3ee26d5a54f2790062b365de0a23991146a3e2b2813f8c8877a"
  },
  "kernelspec": {
   "display_name": "Python 3",
   "language": "python",
   "name": "python3"
  },
  "language_info": {
   "codemirror_mode": {
    "name": "ipython",
    "version": 3
   },
   "file_extension": ".py",
   "mimetype": "text/x-python",
   "name": "python",
   "nbconvert_exporter": "python",
   "pygments_lexer": "ipython3",
   "version": "3.8.8"
  }
 },
 "nbformat": 4,
 "nbformat_minor": 2
}
