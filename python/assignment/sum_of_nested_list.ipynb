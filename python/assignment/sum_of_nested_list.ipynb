{
 "cells": [
  {
   "cell_type": "code",
   "execution_count": null,
   "id": "5c58b3f5",
   "metadata": {},
   "outputs": [],
   "source": [
    "# Write your solution. Find the sum of given list (Using list Comprehension)\n",
    "\n",
    "test_list = [[1, 4, 5], [7, 3], [4], [46, 7, 3]]"
   ]
  },
  {
   "cell_type": "code",
   "execution_count": 1,
   "id": "6aa4fffc",
   "metadata": {},
   "outputs": [
    {
     "name": "stdout",
     "output_type": "stream",
     "text": [
      "80\n"
     ]
    }
   ],
   "source": [
    "test_list = [[1, 4, 5], [7, 3], [4], [46, 7, 3]]\n",
    "result = sum([ x for x in test_list  for x in x ])\n",
    "print(result)\n"
   ]
  },
  {
   "cell_type": "code",
   "execution_count": null,
   "id": "d5baeacb",
   "metadata": {},
   "outputs": [],
   "source": []
  },
  {
   "cell_type": "code",
   "execution_count": null,
   "id": "b4a32f9f",
   "metadata": {},
   "outputs": [],
   "source": []
  }
 ],
 "metadata": {
  "kernelspec": {
   "display_name": "Python 3",
   "language": "python",
   "name": "python3"
  },
  "language_info": {
   "codemirror_mode": {
    "name": "ipython",
    "version": 3
   },
   "file_extension": ".py",
   "mimetype": "text/x-python",
   "name": "python",
   "nbconvert_exporter": "python",
   "pygments_lexer": "ipython3",
   "version": "3.8.8"
  }
 },
 "nbformat": 4,
 "nbformat_minor": 5
}
