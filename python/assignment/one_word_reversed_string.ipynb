{
 "cells": [
  {
   "cell_type": "code",
   "execution_count": null,
   "source": [
    "### 10. Program to print:\r\n",
    "* Output: 'one owt three ruof five xis seven' \r\n",
    "* Input:  'one two three four five six seven'"
   ],
   "outputs": [],
   "metadata": {}
  },
  {
   "cell_type": "code",
   "execution_count": 1,
   "source": [
    "s = input('Enter a String:')\r\n",
    "l = s.split()\r\n",
    "l1 = []\r\n",
    "i = 0\r\n",
    "while i<len(l):\r\n",
    "    if i%2==0:\r\n",
    "        l1.append(l[i])\r\n",
    "    else:\r\n",
    "        l1.append(l[i][::-1])\r\n",
    "    i=i+1\r\n",
    "output=' '.join(l1)\r\n",
    "print('Original String:',s)\r\n",
    "print('output String:',output) "
   ],
   "outputs": [
    {
     "output_type": "stream",
     "name": "stdout",
     "text": [
      "Original String: one two three four five six seven\n",
      "output String: one owt three ruof five xis seven\n"
     ]
    }
   ],
   "metadata": {}
  }
 ],
 "metadata": {
  "orig_nbformat": 4,
  "language_info": {
   "name": "python",
   "version": "3.9.6",
   "mimetype": "text/x-python",
   "codemirror_mode": {
    "name": "ipython",
    "version": 3
   },
   "pygments_lexer": "ipython3",
   "nbconvert_exporter": "python",
   "file_extension": ".py"
  },
  "kernelspec": {
   "name": "python3",
   "display_name": "Python 3.9.6 64-bit"
  },
  "interpreter": {
   "hash": "f2ed423f5e7ec3ee26d5a54f2790062b365de0a23991146a3e2b2813f8c8877a"
  }
 },
 "nbformat": 4,
 "nbformat_minor": 2
}