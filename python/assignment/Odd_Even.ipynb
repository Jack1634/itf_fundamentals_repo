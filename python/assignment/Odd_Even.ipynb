{
 "cells": [
  {
   "cell_type": "code",
   "execution_count": null,
   "id": "53d62db7",
   "metadata": {},
   "outputs": [],
   "source": [
    "Create a list of strings based on a list of numbers\n",
    "The rules:\n",
    "\n",
    "If the number is a multiple of five and odd, the string should be 'five odd'\n",
    "If the number is a multiple of five and even, the string should be 'five even'\n",
    "If the number is odd, the string is 'odd'\n",
    "If the number is even, the string is 'even'"
   ]
  },
  {
   "cell_type": "code",
   "execution_count": 1,
   "id": "a1953400",
   "metadata": {},
   "outputs": [
    {
     "name": "stdout",
     "output_type": "stream",
     "text": [
      "['odd', 'odd', 'even', 'even', 'odd', 'five even', 'five even', 'five odd']\n"
     ]
    }
   ],
   "source": [
    "number_list = [1, 3, 4, 6, 81, 80, 100, 95]\n",
    "a = ['five even' if i % 5 == 0 and i % 2 == 0 else 'five odd' if i % 5 == 0 and i % 2 != 0 else 'odd' if i % 2 != 0 else 'even' for i in number_list]\n",
    "print(a)"
   ]
  },
  {
   "cell_type": "code",
   "execution_count": null,
   "id": "9e98e5af",
   "metadata": {},
   "outputs": [],
   "source": [
    "#solution-2\n",
    "\n",
    "numbers = [1, 3, 4, 6, 81, 80, 100, 95]\n",
    "\n",
    "for i in numbers :\n",
    "    if i%5==0 and i%2 ==0:\n",
    "        print(\"Five even\")\n",
    "    elif i%5==0 and i%2==1:\n",
    "        print(\"five ood\")\n",
    "    elif i%2 ==0:\n",
    "        print(\"even\")\n",
    "    else:\n",
    "        print(\"odd\")"
   ]
  },
  {
   "cell_type": "code",
   "execution_count": 2,
   "id": "d226085b",
   "metadata": {},
   "outputs": [
    {
     "name": "stdout",
     "output_type": "stream",
     "text": [
      "['odd', 'odd', 'even', 'even', 'odd', 'five even', 'five even', 'five odd']\n"
     ]
    }
   ],
   "source": [
    "# Solution-3\n",
    "\n",
    "numbers = [1, 3, 4, 6, 81, 80, 100, 95] \n",
    "\n",
    "def check(i):\n",
    "    if i % 5 :\n",
    "        if i % 2:\n",
    "            return \"odd\"\n",
    "        else:\n",
    "            return \"even\"\n",
    "    else:\n",
    "        if i % 2:\n",
    "            return \"five odd\"\n",
    "        else:\n",
    "            return \"five even\"\n",
    "        \n",
    "result = list(map(check, numbers))    \n",
    "print(result)"
   ]
  },
  {
   "cell_type": "code",
   "execution_count": null,
   "id": "9414031f",
   "metadata": {},
   "outputs": [],
   "source": []
  }
 ],
 "metadata": {
  "kernelspec": {
   "display_name": "Python 3",
   "language": "python",
   "name": "python3"
  },
  "language_info": {
   "codemirror_mode": {
    "name": "ipython",
    "version": 3
   },
   "file_extension": ".py",
   "mimetype": "text/x-python",
   "name": "python",
   "nbconvert_exporter": "python",
   "pygments_lexer": "ipython3",
   "version": "3.8.8"
  }
 },
 "nbformat": 4,
 "nbformat_minor": 5
}
