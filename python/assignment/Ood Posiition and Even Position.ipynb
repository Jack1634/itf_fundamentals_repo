{
 "cells": [
  {
   "cell_type": "code",
   "execution_count": null,
   "source": [
    "## 4. Program to Print Characters at Odd Position and Even Position for a String?"
   ],
   "outputs": [],
   "metadata": {}
  },
  {
   "cell_type": "code",
   "execution_count": null,
   "source": [
    "##### Method-1 Using Slicing"
   ],
   "outputs": [],
   "metadata": {}
  },
  {
   "cell_type": "code",
   "execution_count": 1,
   "source": [
    "a = input(\"Enter a String:\")\r\n",
    "print(\"Characters at Even Position:\",a[0::2])\r\n",
    "print(\"Characters at Odd Position:\",a[1::2])"
   ],
   "outputs": [
    {
     "output_type": "stream",
     "name": "stdout",
     "text": [
      "Characters at Even Position: Mhme ecm\n",
      "Characters at Odd Position: uamtwloe\n"
     ]
    }
   ],
   "metadata": {}
  },
  {
   "cell_type": "code",
   "execution_count": null,
   "source": [
    "##### Method-2 using 'while' loop"
   ],
   "outputs": [],
   "metadata": {}
  },
  {
   "cell_type": "code",
   "execution_count": null,
   "source": [
    "s=input(\"Enter a String:\")\r\n",
    "i=0\r\n",
    "print(\"Characters at Even Position:\")\r\n",
    "while i< len(s):\r\n",
    "    print(s[i],end=',')\r\n",
    "    i=i+2\r\n",
    "print()\r\n",
    "print(\"Characters at Odd Position:\")\r\n",
    "i=1\r\n",
    "while i< len(s):\r\n",
    "    print(s[i],end=',')\r\n",
    "    i=i+2"
   ],
   "outputs": [],
   "metadata": {}
  }
 ],
 "metadata": {
  "orig_nbformat": 4,
  "language_info": {
   "name": "python",
   "version": "3.9.6",
   "mimetype": "text/x-python",
   "codemirror_mode": {
    "name": "ipython",
    "version": 3
   },
   "pygments_lexer": "ipython3",
   "nbconvert_exporter": "python",
   "file_extension": ".py"
  },
  "kernelspec": {
   "name": "python3",
   "display_name": "Python 3.9.6 64-bit"
  },
  "interpreter": {
   "hash": "f2ed423f5e7ec3ee26d5a54f2790062b365de0a23991146a3e2b2813f8c8877a"
  }
 },
 "nbformat": 4,
 "nbformat_minor": 2
}