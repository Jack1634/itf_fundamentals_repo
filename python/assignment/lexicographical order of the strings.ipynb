{
 "cells": [
  {
   "cell_type": "code",
   "execution_count": null,
   "id": "89fb21c8",
   "metadata": {},
   "outputs": [],
   "source": [
    "1- Given two arrays of strings a1 and a2 return a sorted array r in lexicographical order of the strings of a1 which are substrings of strings of a2.\n",
    "\n",
    "Example 1: a1 = [\"arp\", \"live\", \"strong\"]\n",
    "\n",
    "a2 = [\"lively\", \"alive\", \"harp\", \"sharp\", \"armstrong\"]\n",
    "\n",
    "returns [\"arp\", \"live\", \"strong\"]\n",
    "\n",
    "Example 2: a1 = [\"tarp\", \"mice\", \"bull\"]\n",
    "\n",
    "a2 = [\"lively\", \"alive\", \"harp\", \"sharp\", \"armstrong\"]\n",
    "\n",
    "returns []\n",
    "\n",
    "Notes: Arrays are written in \"general\" notation. See \"Your Test Cases\" for examples in your language.\n",
    "\n",
    "In Shell bash a1 and a2 are strings. The return is a string where words are separated by commas.\n",
    "\n",
    "Beware: r must be without duplicates"
   ]
  },
  {
   "cell_type": "code",
   "execution_count": null,
   "id": "6d837e15",
   "metadata": {},
   "outputs": [],
   "source": [
    "def in_array(array1, array2) :\n",
    "    result = []\n",
    "    for i in array1:\n",
    "        for j in array2:\n",
    "            if i in j and i not in result :\n",
    "                result.append(i)\n",
    "    return result\n",
    "\n",
    "in_array([\"arp\", \"live\", \"strong\"], [\"lively\", \"alive\", \"harp\", \"sharp\", \"armstrong\"])"
   ]
  },
  {
   "cell_type": "code",
   "execution_count": null,
   "id": "4ac354fa",
   "metadata": {},
   "outputs": [],
   "source": [
    "def aarray (array1, array2):\n",
    "    result = []\n",
    "    return list({i for i in array1 for j in array2 if i in j and i not in result})\n",
    "aarray([\"arp\", \"live\", \"strong\"], [\"lively\", \"alive\", \"harp\", \"sharp\", \"armstrong\"])"
   ]
  }
 ],
 "metadata": {
  "kernelspec": {
   "display_name": "Python 3",
   "language": "python",
   "name": "python3"
  },
  "language_info": {
   "codemirror_mode": {
    "name": "ipython",
    "version": 3
   },
   "file_extension": ".py",
   "mimetype": "text/x-python",
   "name": "python",
   "nbconvert_exporter": "python",
   "pygments_lexer": "ipython3",
   "version": "3.8.8"
  }
 },
 "nbformat": 4,
 "nbformat_minor": 5
}
