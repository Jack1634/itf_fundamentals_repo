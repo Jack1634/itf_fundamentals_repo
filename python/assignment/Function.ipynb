{
 "cells": [
  {
   "cell_type": "code",
   "execution_count": null,
   "id": "d9436e2f",
   "metadata": {},
   "outputs": [],
   "source": [
    "- Write a function named add_dots that takes a string and adds \".\" in between each letter. \n",
    "- For example\n",
    "- calling add_dots(\"test\") should return the string \"t.e.s.t\".\n",
    "\n",
    "- Then, below the add_dots function, \n",
    "- write another function named remove_dots that removes all dots from a string.\n",
    "- For example\n",
    "- calling remove_dots(\"t.e.s.t\") should return \"test\".\n",
    "\n",
    "- If both functions are correct,\n",
    "- calling remove_dots(add_dots(string)) should return back the original string for any string."
   ]
  },
  {
   "cell_type": "code",
   "execution_count": 1,
   "id": "468da437",
   "metadata": {},
   "outputs": [
    {
     "name": "stdout",
     "output_type": "stream",
     "text": [
      "t.e.s.t\n",
      "test\n",
      "test\n"
     ]
    }
   ],
   "source": [
    "def add_dots(string):\n",
    "    new_string = \".\".join(string)\n",
    "    return new_string\n",
    "print(add_dots(\"test\"))\n",
    "\n",
    "def remove_dots(string):\n",
    "    new_string = string\n",
    "    result = new_string.replace(\".\", \"\")\n",
    "    return result\n",
    "print(remove_dots(\"t.e.s.t\"))\n",
    "\n",
    "print(remove_dots(add_dots(\"test\")))"
   ]
  },
  {
   "cell_type": "code",
   "execution_count": null,
   "id": "907870dd",
   "metadata": {},
   "outputs": [],
   "source": []
  }
 ],
 "metadata": {
  "kernelspec": {
   "display_name": "Python 3",
   "language": "python",
   "name": "python3"
  },
  "language_info": {
   "codemirror_mode": {
    "name": "ipython",
    "version": 3
   },
   "file_extension": ".py",
   "mimetype": "text/x-python",
   "name": "python",
   "nbconvert_exporter": "python",
   "pygments_lexer": "ipython3",
   "version": "3.8.8"
  }
 },
 "nbformat": 4,
 "nbformat_minor": 5
}
