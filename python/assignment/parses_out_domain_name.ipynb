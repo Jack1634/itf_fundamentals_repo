{
 "cells": [
  {
   "cell_type": "code",
   "execution_count": null,
   "id": "ad59605d",
   "metadata": {},
   "outputs": [],
   "source": [
    "Write a function that when given a URL as a string, parses out just the domain name and returns it as a string. \n",
    "For example:\n",
    "domain_name(\"http://www.zombie-bites.com\") == \"zombie-bites\"\n",
    "domain_name(\"https://www.cnet.com\") == \"cnet\""
   ]
  },
  {
   "cell_type": "code",
   "execution_count": 1,
   "id": "6002dc25",
   "metadata": {},
   "outputs": [
    {
     "data": {
      "text/plain": [
       "'zombie-bites'"
      ]
     },
     "execution_count": 1,
     "metadata": {},
     "output_type": "execute_result"
    }
   ],
   "source": [
    "def domain_number(url):\n",
    "    domain=url.split(\".\")\n",
    "    if \"www\" in domain[0]:\n",
    "        return domain[1]\n",
    "\n",
    "    \n",
    "domain_number(\"http://www.zombie-bites.com\")"
   ]
  },
  {
   "cell_type": "code",
   "execution_count": null,
   "id": "1d93ffe2",
   "metadata": {},
   "outputs": [],
   "source": []
  }
 ],
 "metadata": {
  "kernelspec": {
   "display_name": "Python 3",
   "language": "python",
   "name": "python3"
  },
  "language_info": {
   "codemirror_mode": {
    "name": "ipython",
    "version": 3
   },
   "file_extension": ".py",
   "mimetype": "text/x-python",
   "name": "python",
   "nbconvert_exporter": "python",
   "pygments_lexer": "ipython3",
   "version": "3.8.8"
  }
 },
 "nbformat": 4,
 "nbformat_minor": 5
}
