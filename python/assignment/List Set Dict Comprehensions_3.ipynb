{
 "cells": [
  {
   "cell_type": "code",
   "execution_count": null,
   "id": "a10a5478",
   "metadata": {},
   "outputs": [],
   "source": [
    "Create a set which only contains unique sqaures from a given a integer list.\n",
    "integer = [1, -1, 2, -2, 3, -3]"
   ]
  },
  {
   "cell_type": "code",
   "execution_count": 3,
   "id": "8767fed0",
   "metadata": {},
   "outputs": [
    {
     "data": {
      "text/plain": [
       "{1, 4, 9}"
      ]
     },
     "execution_count": 3,
     "metadata": {},
     "output_type": "execute_result"
    }
   ],
   "source": [
    "integer = [1, -1, 2, -2, 3, -3]\n",
    "\n",
    "result = {i*i for i in integer}\n",
    "result"
   ]
  },
  {
   "cell_type": "code",
   "execution_count": null,
   "id": "1ad5ecc2",
   "metadata": {},
   "outputs": [],
   "source": []
  }
 ],
 "metadata": {
  "kernelspec": {
   "display_name": "Python 3",
   "language": "python",
   "name": "python3"
  },
  "language_info": {
   "codemirror_mode": {
    "name": "ipython",
    "version": 3
   },
   "file_extension": ".py",
   "mimetype": "text/x-python",
   "name": "python",
   "nbconvert_exporter": "python",
   "pygments_lexer": "ipython3",
   "version": "3.8.8"
  }
 },
 "nbformat": 4,
 "nbformat_minor": 5
}
