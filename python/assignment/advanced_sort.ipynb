{
 "cells": [
  {
   "cell_type": "code",
   "execution_count": null,
   "id": "24415949",
   "metadata": {},
   "outputs": [],
   "source": [
    "Create a function that takes a list of numbers or strings and returns a list with the items from the original list stored \n",
    "into sublists. Items of the same value should be in the same sublist.\n",
    "\n",
    "advanced_sort([2, 1, 2, 1]) ➞ [[2, 2], [1, 1]]\n",
    "\n",
    "advanced_sort([5, 4, 5, 5, 4, 3]) ➞ [[5, 5, 5], [4, 4], [3]]\n",
    "\n",
    "advanced_sort([\"b\", \"a\", \"b\", \"a\", \"c\"]) ➞ [[\"b\", \"b\"], [\"a\", \"a\"], [\"c\"]]\n"
   ]
  },
  {
   "cell_type": "code",
   "execution_count": 1,
   "id": "f7b8c0d7",
   "metadata": {},
   "outputs": [
    {
     "name": "stdout",
     "output_type": "stream",
     "text": [
      "[['c'], ['a', 'a'], ['b', 'b']]\n"
     ]
    }
   ],
   "source": [
    "list1 = [\"b\", \"a\", \"b\", \"a\", \"c\"]\n",
    "a= set(list1)\n",
    "\n",
    "result =[[i]*list1.count(i) for i in a]\n",
    "print(result)"
   ]
  },
  {
   "cell_type": "code",
   "execution_count": null,
   "id": "f8d078d3",
   "metadata": {},
   "outputs": [],
   "source": []
  }
 ],
 "metadata": {
  "kernelspec": {
   "display_name": "Python 3",
   "language": "python",
   "name": "python3"
  },
  "language_info": {
   "codemirror_mode": {
    "name": "ipython",
    "version": 3
   },
   "file_extension": ".py",
   "mimetype": "text/x-python",
   "name": "python",
   "nbconvert_exporter": "python",
   "pygments_lexer": "ipython3",
   "version": "3.8.8"
  }
 },
 "nbformat": 4,
 "nbformat_minor": 5
}
