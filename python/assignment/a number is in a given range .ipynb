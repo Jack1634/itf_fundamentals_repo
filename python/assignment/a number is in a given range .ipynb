{
 "cells": [
  {
   "cell_type": "code",
   "execution_count": null,
   "id": "0304b495",
   "metadata": {},
   "outputs": [],
   "source": [
    "Write a function that checks whether a number is in a given range (Inclusive of high and low)"
   ]
  },
  {
   "cell_type": "code",
   "execution_count": 3,
   "id": "c8717367",
   "metadata": {},
   "outputs": [
    {
     "name": "stdout",
     "output_type": "stream",
     "text": [
      "5 is in range of 3 & 9 \n"
     ]
    }
   ],
   "source": [
    "def ran_check(num,low,high):\n",
    " # code here\n",
    " if num in range(low,high+1):\n",
    "        print(\"{} is in range of {} & {} \".format(num,low,high))\n",
    " else:  \n",
    "        print(\"{} is not in range of {} & {} \".format(num,low,high))\n",
    "        \n",
    "ran_check(5,3,9)        "
   ]
  },
  {
   "cell_type": "code",
   "execution_count": null,
   "id": "a10aa1e1",
   "metadata": {},
   "outputs": [],
   "source": []
  }
 ],
 "metadata": {
  "kernelspec": {
   "display_name": "Python 3",
   "language": "python",
   "name": "python3"
  },
  "language_info": {
   "codemirror_mode": {
    "name": "ipython",
    "version": 3
   },
   "file_extension": ".py",
   "mimetype": "text/x-python",
   "name": "python",
   "nbconvert_exporter": "python",
   "pygments_lexer": "ipython3",
   "version": "3.8.8"
  }
 },
 "nbformat": 4,
 "nbformat_minor": 5
}
