{
 "cells": [
  {
   "cell_type": "raw",
   "id": "72aa3292",
   "metadata": {},
   "source": [
    "# Have the function UsernameValidation(`str`) take the `str` parameter being passed and determine\n",
    "if the string is a valid username according to the following rules:\n",
    "\n",
    "# 1. The username is between 4 and 25 characters.\n",
    "# 2. It must start with a letter.\n",
    "# 3. It can only contain letters, numbers, and the underscore character.\n",
    "# 4. It cannot end with an underscore character.\n",
    "\n",
    "#If the username is valid then your program should return the string `true`, otherwise return the string `false`.\n"
   ]
  },
  {
   "cell_type": "code",
   "execution_count": 1,
   "id": "bc2961f8",
   "metadata": {},
   "outputs": [
    {
     "name": "stdout",
     "output_type": "stream",
     "text": [
      "aa_ False\n",
      "uaa__hello_worldW True\n"
     ]
    }
   ],
   "source": [
    "\n",
    "def UsernameValidation(strParam):\n",
    "    if len(strParam) < 4 or len(strParam) > 25 :\n",
    "        return False\n",
    "\n",
    "    if not str(strParam[0]).isalpha():\n",
    "        return False;\n",
    "    if str(strParam[-1] ) == '_':\n",
    "        return False;\n",
    "    \n",
    "    valid_grammar = set('abcdefghijklmnopqrstuvwxyz0123456789_')\n",
    "    \n",
    "    for ch in strParam:\n",
    "        if ch.lower() not in valid_grammar:\n",
    "            return False;\n",
    "        return True\n",
    "\n",
    "\n",
    "TC1 = \"aa_\"\n",
    "TC2 = \"uaa__hello_worldW\"\n",
    "\n",
    "print(TC1, UsernameValidation(TC1))\n",
    "print(TC2, UsernameValidation(TC2))"
   ]
  },
  {
   "cell_type": "code",
   "execution_count": null,
   "id": "48299d6b",
   "metadata": {},
   "outputs": [],
   "source": []
  },
  {
   "cell_type": "code",
   "execution_count": null,
   "id": "40e520ae",
   "metadata": {},
   "outputs": [],
   "source": []
  },
  {
   "cell_type": "code",
   "execution_count": null,
   "id": "9e4cb9cb",
   "metadata": {},
   "outputs": [],
   "source": []
  }
 ],
 "metadata": {
  "kernelspec": {
   "display_name": "Python 3",
   "language": "python",
   "name": "python3"
  },
  "language_info": {
   "codemirror_mode": {
    "name": "ipython",
    "version": 3
   },
   "file_extension": ".py",
   "mimetype": "text/x-python",
   "name": "python",
   "nbconvert_exporter": "python",
   "pygments_lexer": "ipython3",
   "version": "3.8.8"
  }
 },
 "nbformat": 4,
 "nbformat_minor": 5
}
