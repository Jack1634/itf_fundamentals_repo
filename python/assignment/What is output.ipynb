{
 "cells": [
  {
   "cell_type": "code",
   "execution_count": null,
   "id": "7e00c1c0",
   "metadata": {},
   "outputs": [],
   "source": [
    "a = [1, 2, 3]\n",
    "\n",
    "b = a\n",
    "\n",
    "a += [4]\n",
    "\n",
    "print(a, b)\n",
    "\n",
    "[1, 2, 3, 4] [1, 2, 3, 4]\n",
    "\n",
    "a = 1, 2, 3\n",
    "\n",
    "b = a\n",
    "\n",
    "a += 4,\n",
    "\n",
    "print(a, b)\n",
    "\n",
    "What is the final output?\n",
    "\n",
    "A. [1, 2, 3, 4] [1, 2, 3, 4]\n",
    "\n",
    "B. Error\n",
    "\n",
    "C. (1, 2, 3, 4) (1, 2, 3)\n",
    "\n",
    "D. (1, 2, 3, 4) (1, 2, 3, 4)\n",
    "\n",
    "E. Other"
   ]
  },
  {
   "cell_type": "code",
   "execution_count": 12,
   "id": "d3e0120e",
   "metadata": {},
   "outputs": [
    {
     "name": "stdout",
     "output_type": "stream",
     "text": [
      "(1, 2, 3, 4) (1, 2, 3)\n"
     ]
    }
   ],
   "source": [
    "# Answer \n",
    "a = 1, 2, 3\n",
    "\n",
    "b = a\n",
    "\n",
    "a += 4,\n",
    "\n",
    "print(a, b)"
   ]
  },
  {
   "cell_type": "code",
   "execution_count": null,
   "id": "4383b997",
   "metadata": {},
   "outputs": [],
   "source": []
  }
 ],
 "metadata": {
  "kernelspec": {
   "display_name": "Python 3",
   "language": "python",
   "name": "python3"
  },
  "language_info": {
   "codemirror_mode": {
    "name": "ipython",
    "version": 3
   },
   "file_extension": ".py",
   "mimetype": "text/x-python",
   "name": "python",
   "nbconvert_exporter": "python",
   "pygments_lexer": "ipython3",
   "version": "3.8.8"
  }
 },
 "nbformat": 4,
 "nbformat_minor": 5
}
