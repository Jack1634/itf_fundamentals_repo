{
 "cells": [
  {
   "cell_type": "markdown",
   "id": "8faa78f9",
   "metadata": {},
   "source": [
    "Task : Print the prime numbers which are between 1 to entered limit number (n).\n",
    "    \n",
    "*** You can use a nested for loop.\n",
    "\n",
    "*** Collect all these numbers into a list\n",
    "*** The desired output for n=100 :\n",
    "    \n",
    " [2, 3, 5, 7, 11, 13, 17, 19, 23, 29, 31, 37, 41, 43, 47, 53, 59,\n",
    "61, 67, 71, 73, 79, 83, 89, 97]   \n",
    "    "
   ]
  },
  {
   "cell_type": "code",
   "execution_count": 2,
   "id": "22f3fdaa",
   "metadata": {},
   "outputs": [
    {
     "name": "stdout",
     "output_type": "stream",
     "text": [
      "Enter any number: 100\n",
      "[2, 3, 5, 7, 11, 13, 17, 19, 23, 29, 31, 37, 41, 43, 47, 53, 59, 61, 67, 71, 73, 79, 83, 89, 97]\n"
     ]
    }
   ],
   "source": [
    "num = int(input(\"Enter any number: \"))\n",
    "\n",
    "prime_number_list = []\n",
    "\n",
    "for num in range(1, num):\n",
    "    if num > 1:\n",
    "        for i in range(2, num):\n",
    "            if (num % i == 0):\n",
    "                break\n",
    "        else:\n",
    "            prime_number_list.append(num)\n",
    "            \n",
    "print(prime_number_list)"
   ]
  },
  {
   "cell_type": "code",
   "execution_count": null,
   "id": "8f9089ce",
   "metadata": {},
   "outputs": [],
   "source": []
  },
  {
   "cell_type": "code",
   "execution_count": null,
   "id": "768fe23b",
   "metadata": {},
   "outputs": [],
   "source": []
  },
  {
   "cell_type": "code",
   "execution_count": null,
   "id": "b5011c3b",
   "metadata": {},
   "outputs": [],
   "source": []
  },
  {
   "cell_type": "code",
   "execution_count": null,
   "id": "13f3d103",
   "metadata": {},
   "outputs": [],
   "source": []
  }
 ],
 "metadata": {
  "kernelspec": {
   "display_name": "Python 3",
   "language": "python",
   "name": "python3"
  },
  "language_info": {
   "codemirror_mode": {
    "name": "ipython",
    "version": 3
   },
   "file_extension": ".py",
   "mimetype": "text/x-python",
   "name": "python",
   "nbconvert_exporter": "python",
   "pygments_lexer": "ipython3",
   "version": "3.8.8"
  }
 },
 "nbformat": 4,
 "nbformat_minor": 5
}
