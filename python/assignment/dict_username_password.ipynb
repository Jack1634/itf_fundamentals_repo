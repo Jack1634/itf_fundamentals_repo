{
 "cells": [
  {
   "cell_type": "code",
   "execution_count": null,
   "id": "fdeef3c9",
   "metadata": {},
   "outputs": [],
   "source": [
    "Tasks :-\n",
    "1. if the username and password matches print hello username\n",
    "2. if the username and password doesnot match, ask, you want me to add into\n",
    "the database and add database\n",
    "3. show the updated database"
   ]
  },
  {
   "cell_type": "code",
   "execution_count": null,
   "id": "a210f051",
   "metadata": {},
   "outputs": [],
   "source": [
    "database = {'Mehmet':1234,'Halit':5678,'Pedro':1357}\n",
    "username = input(\" username : \")\n",
    "password = int(input(\" password : \"))\n",
    "\n",
    "if username==\"Mehmet\" and password==1234:\n",
    "    print('Hello {}!'.format(username))\n",
    "  \n",
    "    \n",
    "elif  username==\"Halit\" and password==5678:\n",
    "    print( 'Hello {}!'.format(username))\n",
    "\n",
    "elif  username==\"Pedro\" and password==1357:\n",
    "    print( 'Hello {}!'.format(username))\n",
    "else:\n",
    "    print(\"You want me to add into the database?\")\n",
    "    new_name=input(\"enter a new name : \")\n",
    "    new_password=input(\"Enter new password: \")\n",
    "    new_database={new_name :new_password}\n",
    "    database.update(new_database)\n",
    "    print(\"updated Databese :\", database)"
   ]
  },
  {
   "cell_type": "code",
   "execution_count": null,
   "id": "31d08cea",
   "metadata": {},
   "outputs": [],
   "source": []
  }
 ],
 "metadata": {
  "kernelspec": {
   "display_name": "Python 3",
   "language": "python",
   "name": "python3"
  },
  "language_info": {
   "codemirror_mode": {
    "name": "ipython",
    "version": 3
   },
   "file_extension": ".py",
   "mimetype": "text/x-python",
   "name": "python",
   "nbconvert_exporter": "python",
   "pygments_lexer": "ipython3",
   "version": "3.8.8"
  }
 },
 "nbformat": 4,
 "nbformat_minor": 5
}
