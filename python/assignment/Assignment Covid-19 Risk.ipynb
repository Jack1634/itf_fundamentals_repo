{
 "cells": [
  {
   "cell_type": "code",
   "execution_count": null,
   "id": "17ffbaa0",
   "metadata": {},
   "outputs": [],
   "source": [
    "Task : Estimating the risk of death from coronavirus. Write a program that;\n",
    "\n",
    "Takes \"Yes\" or \"No\" from the user as an answer to the following questions :\n",
    "\n",
    "Are you a cigarette addict older than 75 years old? Variable → age\n",
    "\n",
    "Do you have a severe chronic disease? Variable → chronic\n",
    "\n",
    "Is your immune system too weak? Variable → immune\n",
    "\n",
    "Set a logical algorithm using boolean logic operators (and/or) and use if-statements with the given variables in order to print out us a message : \"You are in risky group\"(if True ) or \"You are not in risky group\" (if False).\n"
   ]
  },
  {
   "cell_type": "code",
   "execution_count": null,
   "id": "6e7347ec",
   "metadata": {},
   "outputs": [],
   "source": [
    "cigarrette_age = input(\"Are you a cigarette addict older than 75 years old? Yes or No : \").title().strip() == \"Yes\"\n",
    "chronic = input(\"Do you have a severe chronic disease? Yes or No : \").title().strip() == \"Yes\"\n",
    "immune =  input (\"Is your immune system too weak? Yes or No : \").title().strip() == \"Yes\"\n",
    "if (cigarrette_age or chronic or immune) == True :\n",
    "    print(\"You are in risky group\")\n",
    "else :\n",
    "    print(\"You are not in risky group\")"
   ]
  }
 ],
 "metadata": {
  "kernelspec": {
   "display_name": "Python 3",
   "language": "python",
   "name": "python3"
  },
  "language_info": {
   "codemirror_mode": {
    "name": "ipython",
    "version": 3
   },
   "file_extension": ".py",
   "mimetype": "text/x-python",
   "name": "python",
   "nbconvert_exporter": "python",
   "pygments_lexer": "ipython3",
   "version": "3.8.8"
  }
 },
 "nbformat": 4,
 "nbformat_minor": 5
}
